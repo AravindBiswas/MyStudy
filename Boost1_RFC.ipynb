{
  "nbformat": 4,
  "nbformat_minor": 0,
  "metadata": {
    "colab": {
      "provenance": [],
      "authorship_tag": "ABX9TyOyEOxlvTPcu/XjmMad02Tx",
      "include_colab_link": true
    },
    "kernelspec": {
      "name": "python3",
      "display_name": "Python 3"
    },
    "language_info": {
      "name": "python"
    }
  },
  "cells": [
    {
      "cell_type": "markdown",
      "metadata": {
        "id": "view-in-github",
        "colab_type": "text"
      },
      "source": [
        "<a href=\"https://colab.research.google.com/github/AravindBiswas/MyStudy/blob/master/Boost1_RFC.ipynb\" target=\"_parent\"><img src=\"https://colab.research.google.com/assets/colab-badge.svg\" alt=\"Open In Colab\"/></a>"
      ]
    },
    {
      "cell_type": "code",
      "execution_count": null,
      "metadata": {
        "id": "aaF4M9YU090a"
      },
      "outputs": [],
      "source": [
        "import pandas as pd\n",
        "import numpy as np\n",
        "from sklearn.model_selection import train_test_split\n",
        "from sklearn.ensemble import RandomForestClassifier\n",
        "from sklearn.metrics import accuracy_score, classification_report, confusion_matrix"
      ]
    },
    {
      "cell_type": "code",
      "source": [
        "\n",
        "# Load data\n",
        "df = pd.read_csv('/content/bio-degradabale-data.csv')"
      ],
      "metadata": {
        "id": "t-uGcQIT1qo1"
      },
      "execution_count": null,
      "outputs": []
    },
    {
      "cell_type": "code",
      "source": [
        "# Perform EDA\n",
        "print(df.head())\n",
        "print(df.info())\n",
        "print(df.describe())"
      ],
      "metadata": {
        "colab": {
          "base_uri": "https://localhost:8080/"
        },
        "id": "xxCaAFKP1rMG",
        "outputId": "cd3a8e4d-54c1-423d-e3ff-c468643f790f"
      },
      "execution_count": null,
      "outputs": [
        {
          "output_type": "stream",
          "name": "stdout",
          "text": [
            "  3.919;2.6909;0;0;0;0;0;31.4;2;0;0;0;3.106;2.55;9.002;0;0.96;1.142;0;0;0;1.201;0;0;0;0;1.932;0.011;0;0;4.489;0;0;0;0;2.949;1.591;0;7.253;0;0;RB\n",
            "0  4.17;2.1144;0;0;0;0;0;30.8;1;1;0;0;2.461;1.393...                                                                                            \n",
            "1  3.932;3.2512;0;0;0;0;0;26.7;2;4;0;0;3.279;2.58...                                                                                            \n",
            "2  3;2.7098;0;0;0;0;0;20;0;2;0;0;2.1;0.918;6.594;...                                                                                            \n",
            "3  4.236;3.3944;0;0;0;0;0;29.4;2;4;0;-0.271;3.449...                                                                                            \n",
            "4  4.236;3.4286;0;0;0;0;0;28.6;2;4;0;-0.275;3.313...                                                                                            \n",
            "<class 'pandas.core.frame.DataFrame'>\n",
            "RangeIndex: 1054 entries, 0 to 1053\n",
            "Data columns (total 1 columns):\n",
            " #   Column                                                                                                                                          Non-Null Count  Dtype \n",
            "---  ------                                                                                                                                          --------------  ----- \n",
            " 0   3.919;2.6909;0;0;0;0;0;31.4;2;0;0;0;3.106;2.55;9.002;0;0.96;1.142;0;0;0;1.201;0;0;0;0;1.932;0.011;0;0;4.489;0;0;0;0;2.949;1.591;0;7.253;0;0;RB  1054 non-null   object\n",
            "dtypes: object(1)\n",
            "memory usage: 8.4+ KB\n",
            "None\n",
            "       3.919;2.6909;0;0;0;0;0;31.4;2;0;0;0;3.106;2.55;9.002;0;0.96;1.142;0;0;0;1.201;0;0;0;0;1.932;0.011;0;0;4.489;0;0;0;0;2.949;1.591;0;7.253;0;0;RB\n",
            "count                                                1054                                                                                            \n",
            "unique                                               1051                                                                                            \n",
            "top     4.343;3.9399;0;0;0;0;0;33.3;0;4;0;-2.514;3.047...                                                                                            \n",
            "freq                                                    2                                                                                            \n"
          ]
        }
      ]
    },
    {
      "cell_type": "code",
      "source": [
        "# Split the Series into features and target variable\n",
        "df = df.iloc[:, 0].str.split(';', expand=True)"
      ],
      "metadata": {
        "id": "aJ0PFV5JJ55a"
      },
      "execution_count": 50,
      "outputs": []
    },
    {
      "cell_type": "code",
      "source": [
        "# Assuming the last column is the target variable\n",
        "X = df.iloc[:, :-1].astype(float)  # features\n",
        "y = df.iloc[:, -1]  # target variable"
      ],
      "metadata": {
        "id": "yxnlp7s7J6DV"
      },
      "execution_count": 51,
      "outputs": []
    },
    {
      "cell_type": "code",
      "source": [
        "# Encode target variable\n",
        "from sklearn.preprocessing import LabelEncoder\n",
        "le = LabelEncoder()\n",
        "y = le.fit_transform(y)"
      ],
      "metadata": {
        "id": "D1ZIkSObJ6Gs"
      },
      "execution_count": 52,
      "outputs": []
    },
    {
      "cell_type": "code",
      "source": [
        "# Split data into training and testing sets\n",
        "from sklearn.model_selection import train_test_split\n",
        "X_train, X_test, y_train, y_test = train_test_split(X, y, test_size=0.2, random_state=42)"
      ],
      "metadata": {
        "id": "As6MxrF8J6KE"
      },
      "execution_count": 53,
      "outputs": []
    },
    {
      "cell_type": "code",
      "source": [
        "print(X_train.shape)"
      ],
      "metadata": {
        "colab": {
          "base_uri": "https://localhost:8080/"
        },
        "id": "eC-l7FvlKuxG",
        "outputId": "accd044e-6dfa-4208-9886-df09202da591"
      },
      "execution_count": 55,
      "outputs": [
        {
          "output_type": "stream",
          "name": "stdout",
          "text": [
            "(843, 0)\n"
          ]
        }
      ]
    },
    {
      "cell_type": "code",
      "source": [
        "print(y_train.shape)"
      ],
      "metadata": {
        "colab": {
          "base_uri": "https://localhost:8080/"
        },
        "id": "OUrmaRYmKzHR",
        "outputId": "6218264c-f566-432c-e21f-9165aaf78d43"
      },
      "execution_count": 56,
      "outputs": [
        {
          "output_type": "stream",
          "name": "stdout",
          "text": [
            "(843,)\n"
          ]
        }
      ]
    },
    {
      "cell_type": "code",
      "source": [
        "# This cell combines the necessary steps from loading data to training the model\n",
        "# to avoid issues with repeated execution of splitting logic.\n",
        "\n",
        "from IPython import get_ipython\n",
        "from IPython.display import display\n",
        "import pandas as pd\n",
        "import numpy as np\n",
        "from sklearn.model_selection import train_test_split\n",
        "from sklearn.ensemble import RandomForestClassifier\n",
        "from sklearn.metrics import accuracy_score, classification_report, confusion_matrix\n",
        "from sklearn.preprocessing import LabelEncoder\n",
        "\n",
        "# Load data\n",
        "# Make sure the file path is correct\n",
        "df = pd.read_csv('/content/bio-degradabale-data.csv')\n",
        "\n",
        "# Perform EDA (optional, but good practice)\n",
        "print(\"Initial Data Head:\")\n",
        "print(df.head())\n",
        "print(\"\\nInitial Data Info:\")\n",
        "print(df.info())\n",
        "print(\"\\nInitial Data Describe:\")\n",
        "print(df.describe())\n",
        "\n",
        "# Assuming the data in the CSV is in a single column and values are separated by semicolons.\n",
        "# Split the first column by ';' and expand into multiple columns\n",
        "# This creates a new dataframe 'df_split'\n",
        "df_split = df.iloc[:, 0].str.split(';', expand=True)\n",
        "\n",
        "# Assuming the last column after splitting is the target variable\n",
        "# Select all columns except the last as features (X)\n",
        "X = df_split.iloc[:, :-1]\n",
        "# Select the last column as the target variable (y)\n",
        "y = df_split.iloc[:, -1]\n",
        "\n",
        "# Ensure X is numeric, handling potential errors by coercing to NaN and filling NaN with 0\n",
        "# This step is crucial to ensure the features are in a format that scikit-learn can use\n",
        "X = X.apply(pd.to_numeric, errors='coerce').fillna(0)\n",
        "\n",
        "# Check the shapes and content of X and y after splitting and processing\n",
        "print(\"\\nShape of X after splitting and processing:\", X.shape)\n",
        "print(\"Shape of y after splitting and processing:\", y.shape)\n",
        "print(\"\\nFirst few rows of X after splitting and processing:\")\n",
        "print(X.head())\n",
        "print(\"\\nFirst few values of y after splitting and processing:\")\n",
        "print(y.head())\n",
        "\n",
        "# Encode target variable\n",
        "# LabelEncoder is used to convert categorical labels (if any) into numerical format\n",
        "le = LabelEncoder()\n",
        "y = le.fit_transform(y)\n",
        "\n",
        "# Check shape and type of y after encoding\n",
        "print(\"\\nShape of y after encoding:\", y.shape)\n",
        "print(\"\\nFirst few values of y after encoding:\")\n",
        "print(y[:5]) # Print only the first few values for brevity\n",
        "\n",
        "# Split data into training and testing sets\n",
        "# This splits the data into sets for training and evaluating the model\n",
        "X_train, X_test, y_train, y_test = train_test_split(X, y, test_size=0.2, random_state=42)\n",
        "\n",
        "# Check shape and type of X_train and y_train\n",
        "print(\"\\nShape of X_train:\", X_train.shape)\n",
        "print(\"Shape of y_train:\", y_train.shape)\n",
        "print(\"\\nFirst few rows of X_train:\")\n",
        "print(X_train.head())\n",
        "print(\"\\nFirst few values of y_train:\")\n",
        "print(y_train[:5]) # Print only the first few values for brevity\n",
        "\n",
        "# Train and evaluate a Random Forest model\n",
        "# Initialize and train the RandomForestClassifier model\n",
        "model = RandomForestClassifier(n_estimators=100, random_state=42)\n",
        "model.fit(X_train, y_train)\n",
        "\n",
        "# Make predictions on the test set\n",
        "y_pred = model.predict(X_test)\n",
        "\n",
        "# Evaluate the model's accuracy\n",
        "accuracy = accuracy_score(y_test, y_pred)\n",
        "print(f'\\nAccuracy: {accuracy:.2f}')\n",
        "\n",
        "# You can also print other metrics like classification report and confusion matrix\n",
        "# print(\"\\nClassification Report:\")\n",
        "# print(classification_report(y_test, y_pred))\n",
        "# print(\"\\nConfusion Matrix:\")\n",
        "# print(confusion_matrix(y_test, y_pred))"
      ],
      "metadata": {
        "colab": {
          "base_uri": "https://localhost:8080/"
        },
        "id": "WS0EzpR4jAbH",
        "outputId": "a56020fa-531e-42a7-953f-b41053713ac5"
      },
      "execution_count": 69,
      "outputs": [
        {
          "output_type": "stream",
          "name": "stdout",
          "text": [
            "Initial Data Head:\n",
            "  3.919;2.6909;0;0;0;0;0;31.4;2;0;0;0;3.106;2.55;9.002;0;0.96;1.142;0;0;0;1.201;0;0;0;0;1.932;0.011;0;0;4.489;0;0;0;0;2.949;1.591;0;7.253;0;0;RB\n",
            "0  4.17;2.1144;0;0;0;0;0;30.8;1;1;0;0;2.461;1.393...                                                                                            \n",
            "1  3.932;3.2512;0;0;0;0;0;26.7;2;4;0;0;3.279;2.58...                                                                                            \n",
            "2  3;2.7098;0;0;0;0;0;20;0;2;0;0;2.1;0.918;6.594;...                                                                                            \n",
            "3  4.236;3.3944;0;0;0;0;0;29.4;2;4;0;-0.271;3.449...                                                                                            \n",
            "4  4.236;3.4286;0;0;0;0;0;28.6;2;4;0;-0.275;3.313...                                                                                            \n",
            "\n",
            "Initial Data Info:\n",
            "<class 'pandas.core.frame.DataFrame'>\n",
            "RangeIndex: 1054 entries, 0 to 1053\n",
            "Data columns (total 1 columns):\n",
            " #   Column                                                                                                                                          Non-Null Count  Dtype \n",
            "---  ------                                                                                                                                          --------------  ----- \n",
            " 0   3.919;2.6909;0;0;0;0;0;31.4;2;0;0;0;3.106;2.55;9.002;0;0.96;1.142;0;0;0;1.201;0;0;0;0;1.932;0.011;0;0;4.489;0;0;0;0;2.949;1.591;0;7.253;0;0;RB  1054 non-null   object\n",
            "dtypes: object(1)\n",
            "memory usage: 8.4+ KB\n",
            "None\n",
            "\n",
            "Initial Data Describe:\n",
            "       3.919;2.6909;0;0;0;0;0;31.4;2;0;0;0;3.106;2.55;9.002;0;0.96;1.142;0;0;0;1.201;0;0;0;0;1.932;0.011;0;0;4.489;0;0;0;0;2.949;1.591;0;7.253;0;0;RB\n",
            "count                                                1054                                                                                            \n",
            "unique                                               1051                                                                                            \n",
            "top     4.343;3.9399;0;0;0;0;0;33.3;0;4;0;-2.514;3.047...                                                                                            \n",
            "freq                                                    2                                                                                            \n",
            "\n",
            "Shape of X after splitting and processing: (1054, 41)\n",
            "Shape of y after splitting and processing: (1054,)\n",
            "\n",
            "First few rows of X after splitting and processing:\n",
            "      0       1   2   3   4   5   6     7   8   9   ...  31  32  33  34  \\\n",
            "0  4.170  2.1144   0   0   0   0   0  30.8   1   1  ...   0   0   0   0   \n",
            "1  3.932  3.2512   0   0   0   0   0  26.7   2   4  ...   0   0   0   1   \n",
            "2  3.000  2.7098   0   0   0   0   0  20.0   0   2  ...   0   0   0   1   \n",
            "3  4.236  3.3944   0   0   0   0   0  29.4   2   4  ...   0   0   0   0   \n",
            "4  4.236  3.4286   0   0   0   0   0  28.6   2   4  ...   0   0   0   0   \n",
            "\n",
            "      35     36  37     38  39  40  \n",
            "0  3.315  1.967   0  7.257   0   0  \n",
            "1  3.076  2.417   0  7.601   0   0  \n",
            "2  3.046  5.000   0  6.690   0   0  \n",
            "3  3.351  2.405   0  8.003   0   0  \n",
            "4  3.351  2.556   0  7.904   0   0  \n",
            "\n",
            "[5 rows x 41 columns]\n",
            "\n",
            "First few values of y after splitting and processing:\n",
            "0    RB\n",
            "1    RB\n",
            "2    RB\n",
            "3    RB\n",
            "4    RB\n",
            "Name: 41, dtype: object\n",
            "\n",
            "Shape of y after encoding: (1054,)\n",
            "\n",
            "First few values of y after encoding:\n",
            "[1 1 1 1 1]\n",
            "\n",
            "Shape of X_train: (843, 41)\n",
            "Shape of y_train: (843,)\n",
            "\n",
            "First few rows of X_train:\n",
            "        0       1   2   3   4   5   6     7   8   9   ...  31  32  33  34  \\\n",
            "321  4.170  3.0210   1   0   0   0   0  22.2   1   1  ...   0   0   1   2   \n",
            "757  5.262  4.7497   4   0   0   0   0  23.1   3   4  ...   0   0   0   0   \n",
            "442  5.267  3.9658   4   0   4   0   6  57.1   0   0  ...   0   4   2   0   \n",
            "362  4.912  2.3426   0   0   0   0   4  48.1   0   2  ...   0   2   0   2   \n",
            "377  4.828  3.1972   0   0   0   0   2  50.0   0   0  ...   0   0   0   0   \n",
            "\n",
            "         35     36  37      38  39  40  \n",
            "321  10.692  3.257   1  14.218   0   1  \n",
            "757   4.416  2.831   0   9.522   0   3  \n",
            "442   4.254  3.103   2   9.543   0   4  \n",
            "362   3.733  2.411   0   8.658   0   0  \n",
            "377   3.687  2.133   0   8.189   0   0  \n",
            "\n",
            "[5 rows x 41 columns]\n",
            "\n",
            "First few values of y_train:\n",
            "[0 0 0 0 0]\n",
            "\n",
            "Accuracy: 0.88\n"
          ]
        }
      ]
    }
  ]
}