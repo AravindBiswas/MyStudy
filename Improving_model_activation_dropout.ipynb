{
  "nbformat": 4,
  "nbformat_minor": 0,
  "metadata": {
    "colab": {
      "provenance": [],
      "authorship_tag": "ABX9TyMscGvtYRXWTyyhYKjJ7hK+",
      "include_colab_link": true
    },
    "kernelspec": {
      "name": "python3",
      "display_name": "Python 3"
    },
    "language_info": {
      "name": "python"
    }
  },
  "cells": [
    {
      "cell_type": "markdown",
      "metadata": {
        "id": "view-in-github",
        "colab_type": "text"
      },
      "source": [
        "<a href=\"https://colab.research.google.com/github/AravindBiswas/MyStudy/blob/master/Improving_model_activation_dropout.ipynb\" target=\"_parent\"><img src=\"https://colab.research.google.com/assets/colab-badge.svg\" alt=\"Open In Colab\"/></a>"
      ]
    },
    {
      "cell_type": "code",
      "execution_count": 1,
      "metadata": {
        "id": "bp6V2VRczoRc"
      },
      "outputs": [],
      "source": [
        "# !pip install tensorflow"
      ]
    },
    {
      "cell_type": "code",
      "source": [
        "#verify the installation\n",
        "import tensorflow as tf\n",
        "from tensorflow import keras\n",
        "\n",
        "#Check tf.keras version\n",
        "print(tf.keras.__version__)"
      ],
      "metadata": {
        "colab": {
          "base_uri": "https://localhost:8080/"
        },
        "id": "Gm8ogkX10A-J",
        "outputId": "ac6d1977-8201-4c6d-85af-65e0f63cbfbc"
      },
      "execution_count": 2,
      "outputs": [
        {
          "output_type": "stream",
          "name": "stdout",
          "text": [
            "3.8.0\n"
          ]
        }
      ]
    },
    {
      "cell_type": "code",
      "source": [
        "# Loading MNIST dataset\n",
        "mnist = keras.datasets.mnist\n",
        "(X_train, Y_train), (X_test, Y_test) = mnist.load_data()"
      ],
      "metadata": {
        "colab": {
          "base_uri": "https://localhost:8080/"
        },
        "id": "wGrsSIyX0KEv",
        "outputId": "8e123b6f-66b2-429c-e070-b810350c5eeb"
      },
      "execution_count": 3,
      "outputs": [
        {
          "output_type": "stream",
          "name": "stdout",
          "text": [
            "Downloading data from https://storage.googleapis.com/tensorflow/tf-keras-datasets/mnist.npz\n",
            "\u001b[1m11490434/11490434\u001b[0m \u001b[32m━━━━━━━━━━━━━━━━━━━━\u001b[0m\u001b[37m\u001b[0m \u001b[1m0s\u001b[0m 0us/step\n"
          ]
        }
      ]
    },
    {
      "cell_type": "code",
      "source": [
        "# Data Exploration\n",
        "print(X_train.shape)\n",
        "print(X_test.shape)"
      ],
      "metadata": {
        "colab": {
          "base_uri": "https://localhost:8080/"
        },
        "id": "_M7SFxug0Kgy",
        "outputId": "95c1638d-2ef7-45d2-8327-75f303df5041"
      },
      "execution_count": 4,
      "outputs": [
        {
          "output_type": "stream",
          "name": "stdout",
          "text": [
            "(60000, 28, 28)\n",
            "(10000, 28, 28)\n"
          ]
        }
      ]
    },
    {
      "cell_type": "markdown",
      "source": [
        "#Data Processing"
      ],
      "metadata": {
        "id": "ylJJh12u0qPW"
      }
    },
    {
      "cell_type": "code",
      "source": [
        "X_train = X_train.astype('float32')\n",
        "X_test = X_test.astype('float32')"
      ],
      "metadata": {
        "id": "2ELFB-wn0KqE"
      },
      "execution_count": 5,
      "outputs": []
    },
    {
      "cell_type": "code",
      "source": [
        "# X_train is 60000 rows of 28x28 values; we reshape it to # 60000 x 784.\n",
        "RESHAPED = 784 # 28x28 = 784 neurons\n",
        "X_train = X_train.reshape(60000, RESHAPED)\n",
        "X_test = X_test.reshape(10000, RESHAPED)\n",
        "\n",
        "# Data is converted into float32 to use 32-bit precision # when training a neural network\n",
        "X_train = X_train.astype('float32')\n",
        "X_test = X_test.astype('float32')\n",
        "\n",
        "# Normalizing the input to be within the range [0,1]\n",
        "X_train /= 255\n",
        "#intensity of each pixel is divided by 255, the maximum intensity value\n",
        "X_test /= 255\n",
        "print(X_train.shape[0], 'train samples')\n",
        "print(X_test.shape[0], 'test samples')\n",
        "\n",
        "# One-hot representation of the labels.\n",
        "Y_train = tf.keras.utils.to_categorical(Y_train, 10)\n",
        "Y_test = tf.keras.utils.to_categorical(Y_test, 10)"
      ],
      "metadata": {
        "colab": {
          "base_uri": "https://localhost:8080/"
        },
        "id": "1LCragXX0vcX",
        "outputId": "f11806bd-c9d7-48ef-c557-b4280b6d53ac"
      },
      "execution_count": 6,
      "outputs": [
        {
          "output_type": "stream",
          "name": "stdout",
          "text": [
            "60000 train samples\n",
            "10000 test samples\n"
          ]
        }
      ]
    },
    {
      "cell_type": "markdown",
      "source": [
        "#Designing the Model"
      ],
      "metadata": {
        "id": "cA1oZ3TU1MAD"
      }
    },
    {
      "cell_type": "code",
      "source": [
        "import tensorflow as tf\n",
        "from tensorflow.keras.layers import Dense\n",
        "from tensorflow.keras import Sequential\n",
        "model_0 = Sequential()\n",
        "# Now the model will take as input arrays of shape (*, 784)# and output arrays of shape (*, 10)\n",
        "model_0.add(Dense(10,input_shape=(784,),name='dense_layer', activation='softmax'))"
      ],
      "metadata": {
        "colab": {
          "base_uri": "https://localhost:8080/"
        },
        "id": "sRnaBBPg0vmR",
        "outputId": "a30030b3-86e0-429e-d49d-2d2e8a9275f4"
      },
      "execution_count": 7,
      "outputs": [
        {
          "output_type": "stream",
          "name": "stderr",
          "text": [
            "/usr/local/lib/python3.11/dist-packages/keras/src/layers/core/dense.py:87: UserWarning: Do not pass an `input_shape`/`input_dim` argument to a layer. When using Sequential models, prefer using an `Input(shape)` object as the first layer in the model instead.\n",
            "  super().__init__(activity_regularizer=activity_regularizer, **kwargs)\n"
          ]
        }
      ]
    },
    {
      "cell_type": "code",
      "source": [
        "# Compiling the model.\n",
        "model_0.compile(optimizer='SGD',\n",
        "              loss='categorical_crossentropy',\n",
        "              metrics=['accuracy'])"
      ],
      "metadata": {
        "id": "1wb-N6nb0vqn"
      },
      "execution_count": 8,
      "outputs": []
    },
    {
      "cell_type": "code",
      "source": [
        "# Training the model.\n",
        "training = model_0.fit(X_train, Y_train, batch_size=64, epochs=70, validation_split=0.2)"
      ],
      "metadata": {
        "colab": {
          "base_uri": "https://localhost:8080/"
        },
        "id": "kZKTn1001j8T",
        "outputId": "cdf15a6f-c9d4-408d-f2db-250128fd25f5"
      },
      "execution_count": 9,
      "outputs": [
        {
          "output_type": "stream",
          "name": "stdout",
          "text": [
            "Epoch 1/70\n",
            "\u001b[1m750/750\u001b[0m \u001b[32m━━━━━━━━━━━━━━━━━━━━\u001b[0m\u001b[37m\u001b[0m \u001b[1m4s\u001b[0m 4ms/step - accuracy: 0.5968 - loss: 1.4892 - val_accuracy: 0.8611 - val_loss: 0.6549\n",
            "Epoch 2/70\n",
            "\u001b[1m750/750\u001b[0m \u001b[32m━━━━━━━━━━━━━━━━━━━━\u001b[0m\u001b[37m\u001b[0m \u001b[1m4s\u001b[0m 2ms/step - accuracy: 0.8518 - loss: 0.6468 - val_accuracy: 0.8789 - val_loss: 0.5065\n",
            "Epoch 3/70\n",
            "\u001b[1m750/750\u001b[0m \u001b[32m━━━━━━━━━━━━━━━━━━━━\u001b[0m\u001b[37m\u001b[0m \u001b[1m2s\u001b[0m 2ms/step - accuracy: 0.8680 - loss: 0.5277 - val_accuracy: 0.8878 - val_loss: 0.4486\n",
            "Epoch 4/70\n",
            "\u001b[1m750/750\u001b[0m \u001b[32m━━━━━━━━━━━━━━━━━━━━\u001b[0m\u001b[37m\u001b[0m \u001b[1m3s\u001b[0m 3ms/step - accuracy: 0.8771 - loss: 0.4755 - val_accuracy: 0.8926 - val_loss: 0.4160\n",
            "Epoch 5/70\n",
            "\u001b[1m750/750\u001b[0m \u001b[32m━━━━━━━━━━━━━━━━━━━━\u001b[0m\u001b[37m\u001b[0m \u001b[1m3s\u001b[0m 3ms/step - accuracy: 0.8827 - loss: 0.4455 - val_accuracy: 0.8967 - val_loss: 0.3952\n",
            "Epoch 6/70\n",
            "\u001b[1m750/750\u001b[0m \u001b[32m━━━━━━━━━━━━━━━━━━━━\u001b[0m\u001b[37m\u001b[0m \u001b[1m3s\u001b[0m 4ms/step - accuracy: 0.8862 - loss: 0.4249 - val_accuracy: 0.8998 - val_loss: 0.3802\n",
            "Epoch 7/70\n",
            "\u001b[1m750/750\u001b[0m \u001b[32m━━━━━━━━━━━━━━━━━━━━\u001b[0m\u001b[37m\u001b[0m \u001b[1m2s\u001b[0m 3ms/step - accuracy: 0.8889 - loss: 0.4068 - val_accuracy: 0.9016 - val_loss: 0.3692\n",
            "Epoch 8/70\n",
            "\u001b[1m750/750\u001b[0m \u001b[32m━━━━━━━━━━━━━━━━━━━━\u001b[0m\u001b[37m\u001b[0m \u001b[1m2s\u001b[0m 3ms/step - accuracy: 0.8958 - loss: 0.3842 - val_accuracy: 0.9045 - val_loss: 0.3600\n",
            "Epoch 9/70\n",
            "\u001b[1m750/750\u001b[0m \u001b[32m━━━━━━━━━━━━━━━━━━━━\u001b[0m\u001b[37m\u001b[0m \u001b[1m3s\u001b[0m 3ms/step - accuracy: 0.8938 - loss: 0.3880 - val_accuracy: 0.9062 - val_loss: 0.3530\n",
            "Epoch 10/70\n",
            "\u001b[1m750/750\u001b[0m \u001b[32m━━━━━━━━━━━━━━━━━━━━\u001b[0m\u001b[37m\u001b[0m \u001b[1m3s\u001b[0m 3ms/step - accuracy: 0.8982 - loss: 0.3713 - val_accuracy: 0.9076 - val_loss: 0.3467\n",
            "Epoch 11/70\n",
            "\u001b[1m750/750\u001b[0m \u001b[32m━━━━━━━━━━━━━━━━━━━━\u001b[0m\u001b[37m\u001b[0m \u001b[1m3s\u001b[0m 4ms/step - accuracy: 0.8985 - loss: 0.3681 - val_accuracy: 0.9078 - val_loss: 0.3414\n",
            "Epoch 12/70\n",
            "\u001b[1m750/750\u001b[0m \u001b[32m━━━━━━━━━━━━━━━━━━━━\u001b[0m\u001b[37m\u001b[0m \u001b[1m2s\u001b[0m 3ms/step - accuracy: 0.9028 - loss: 0.3555 - val_accuracy: 0.9072 - val_loss: 0.3371\n",
            "Epoch 13/70\n",
            "\u001b[1m750/750\u001b[0m \u001b[32m━━━━━━━━━━━━━━━━━━━━\u001b[0m\u001b[37m\u001b[0m \u001b[1m2s\u001b[0m 2ms/step - accuracy: 0.9026 - loss: 0.3508 - val_accuracy: 0.9087 - val_loss: 0.3334\n",
            "Epoch 14/70\n",
            "\u001b[1m750/750\u001b[0m \u001b[32m━━━━━━━━━━━━━━━━━━━━\u001b[0m\u001b[37m\u001b[0m \u001b[1m2s\u001b[0m 3ms/step - accuracy: 0.9040 - loss: 0.3484 - val_accuracy: 0.9101 - val_loss: 0.3292\n",
            "Epoch 15/70\n",
            "\u001b[1m750/750\u001b[0m \u001b[32m━━━━━━━━━━━━━━━━━━━━\u001b[0m\u001b[37m\u001b[0m \u001b[1m2s\u001b[0m 2ms/step - accuracy: 0.9023 - loss: 0.3516 - val_accuracy: 0.9111 - val_loss: 0.3261\n",
            "Epoch 16/70\n",
            "\u001b[1m750/750\u001b[0m \u001b[32m━━━━━━━━━━━━━━━━━━━━\u001b[0m\u001b[37m\u001b[0m \u001b[1m4s\u001b[0m 4ms/step - accuracy: 0.9035 - loss: 0.3452 - val_accuracy: 0.9107 - val_loss: 0.3233\n",
            "Epoch 17/70\n",
            "\u001b[1m750/750\u001b[0m \u001b[32m━━━━━━━━━━━━━━━━━━━━\u001b[0m\u001b[37m\u001b[0m \u001b[1m2s\u001b[0m 3ms/step - accuracy: 0.9069 - loss: 0.3395 - val_accuracy: 0.9128 - val_loss: 0.3208\n",
            "Epoch 18/70\n",
            "\u001b[1m750/750\u001b[0m \u001b[32m━━━━━━━━━━━━━━━━━━━━\u001b[0m\u001b[37m\u001b[0m \u001b[1m2s\u001b[0m 2ms/step - accuracy: 0.9068 - loss: 0.3347 - val_accuracy: 0.9137 - val_loss: 0.3186\n",
            "Epoch 19/70\n",
            "\u001b[1m750/750\u001b[0m \u001b[32m━━━━━━━━━━━━━━━━━━━━\u001b[0m\u001b[37m\u001b[0m \u001b[1m2s\u001b[0m 3ms/step - accuracy: 0.9054 - loss: 0.3382 - val_accuracy: 0.9127 - val_loss: 0.3163\n",
            "Epoch 20/70\n",
            "\u001b[1m750/750\u001b[0m \u001b[32m━━━━━━━━━━━━━━━━━━━━\u001b[0m\u001b[37m\u001b[0m \u001b[1m3s\u001b[0m 3ms/step - accuracy: 0.9072 - loss: 0.3329 - val_accuracy: 0.9143 - val_loss: 0.3144\n",
            "Epoch 21/70\n",
            "\u001b[1m750/750\u001b[0m \u001b[32m━━━━━━━━━━━━━━━━━━━━\u001b[0m\u001b[37m\u001b[0m \u001b[1m3s\u001b[0m 4ms/step - accuracy: 0.9112 - loss: 0.3243 - val_accuracy: 0.9140 - val_loss: 0.3126\n",
            "Epoch 22/70\n",
            "\u001b[1m750/750\u001b[0m \u001b[32m━━━━━━━━━━━━━━━━━━━━\u001b[0m\u001b[37m\u001b[0m \u001b[1m4s\u001b[0m 3ms/step - accuracy: 0.9090 - loss: 0.3283 - val_accuracy: 0.9140 - val_loss: 0.3111\n",
            "Epoch 23/70\n",
            "\u001b[1m750/750\u001b[0m \u001b[32m━━━━━━━━━━━━━━━━━━━━\u001b[0m\u001b[37m\u001b[0m \u001b[1m3s\u001b[0m 3ms/step - accuracy: 0.9086 - loss: 0.3252 - val_accuracy: 0.9147 - val_loss: 0.3091\n",
            "Epoch 24/70\n",
            "\u001b[1m750/750\u001b[0m \u001b[32m━━━━━━━━━━━━━━━━━━━━\u001b[0m\u001b[37m\u001b[0m \u001b[1m2s\u001b[0m 2ms/step - accuracy: 0.9105 - loss: 0.3213 - val_accuracy: 0.9147 - val_loss: 0.3078\n",
            "Epoch 25/70\n",
            "\u001b[1m750/750\u001b[0m \u001b[32m━━━━━━━━━━━━━━━━━━━━\u001b[0m\u001b[37m\u001b[0m \u001b[1m3s\u001b[0m 3ms/step - accuracy: 0.9104 - loss: 0.3219 - val_accuracy: 0.9152 - val_loss: 0.3066\n",
            "Epoch 26/70\n",
            "\u001b[1m750/750\u001b[0m \u001b[32m━━━━━━━━━━━━━━━━━━━━\u001b[0m\u001b[37m\u001b[0m \u001b[1m2s\u001b[0m 3ms/step - accuracy: 0.9089 - loss: 0.3229 - val_accuracy: 0.9151 - val_loss: 0.3052\n",
            "Epoch 27/70\n",
            "\u001b[1m750/750\u001b[0m \u001b[32m━━━━━━━━━━━━━━━━━━━━\u001b[0m\u001b[37m\u001b[0m \u001b[1m3s\u001b[0m 3ms/step - accuracy: 0.9095 - loss: 0.3202 - val_accuracy: 0.9158 - val_loss: 0.3041\n",
            "Epoch 28/70\n",
            "\u001b[1m750/750\u001b[0m \u001b[32m━━━━━━━━━━━━━━━━━━━━\u001b[0m\u001b[37m\u001b[0m \u001b[1m2s\u001b[0m 3ms/step - accuracy: 0.9106 - loss: 0.3190 - val_accuracy: 0.9158 - val_loss: 0.3026\n",
            "Epoch 29/70\n",
            "\u001b[1m750/750\u001b[0m \u001b[32m━━━━━━━━━━━━━━━━━━━━\u001b[0m\u001b[37m\u001b[0m \u001b[1m3s\u001b[0m 3ms/step - accuracy: 0.9131 - loss: 0.3158 - val_accuracy: 0.9162 - val_loss: 0.3017\n",
            "Epoch 30/70\n",
            "\u001b[1m750/750\u001b[0m \u001b[32m━━━━━━━━━━━━━━━━━━━━\u001b[0m\u001b[37m\u001b[0m \u001b[1m3s\u001b[0m 3ms/step - accuracy: 0.9124 - loss: 0.3174 - val_accuracy: 0.9160 - val_loss: 0.3006\n",
            "Epoch 31/70\n",
            "\u001b[1m750/750\u001b[0m \u001b[32m━━━━━━━━━━━━━━━━━━━━\u001b[0m\u001b[37m\u001b[0m \u001b[1m5s\u001b[0m 3ms/step - accuracy: 0.9091 - loss: 0.3227 - val_accuracy: 0.9165 - val_loss: 0.2995\n",
            "Epoch 32/70\n",
            "\u001b[1m750/750\u001b[0m \u001b[32m━━━━━━━━━━━━━━━━━━━━\u001b[0m\u001b[37m\u001b[0m \u001b[1m2s\u001b[0m 2ms/step - accuracy: 0.9157 - loss: 0.3030 - val_accuracy: 0.9167 - val_loss: 0.2986\n",
            "Epoch 33/70\n",
            "\u001b[1m750/750\u001b[0m \u001b[32m━━━━━━━━━━━━━━━━━━━━\u001b[0m\u001b[37m\u001b[0m \u001b[1m3s\u001b[0m 3ms/step - accuracy: 0.9127 - loss: 0.3124 - val_accuracy: 0.9165 - val_loss: 0.2978\n",
            "Epoch 34/70\n",
            "\u001b[1m750/750\u001b[0m \u001b[32m━━━━━━━━━━━━━━━━━━━━\u001b[0m\u001b[37m\u001b[0m \u001b[1m3s\u001b[0m 4ms/step - accuracy: 0.9147 - loss: 0.3114 - val_accuracy: 0.9172 - val_loss: 0.2968\n",
            "Epoch 35/70\n",
            "\u001b[1m750/750\u001b[0m \u001b[32m━━━━━━━━━━━━━━━━━━━━\u001b[0m\u001b[37m\u001b[0m \u001b[1m5s\u001b[0m 3ms/step - accuracy: 0.9144 - loss: 0.3058 - val_accuracy: 0.9176 - val_loss: 0.2960\n",
            "Epoch 36/70\n",
            "\u001b[1m750/750\u001b[0m \u001b[32m━━━━━━━━━━━━━━━━━━━━\u001b[0m\u001b[37m\u001b[0m \u001b[1m2s\u001b[0m 3ms/step - accuracy: 0.9160 - loss: 0.3066 - val_accuracy: 0.9174 - val_loss: 0.2954\n",
            "Epoch 37/70\n",
            "\u001b[1m750/750\u001b[0m \u001b[32m━━━━━━━━━━━━━━━━━━━━\u001b[0m\u001b[37m\u001b[0m \u001b[1m3s\u001b[0m 3ms/step - accuracy: 0.9143 - loss: 0.3093 - val_accuracy: 0.9179 - val_loss: 0.2948\n",
            "Epoch 38/70\n",
            "\u001b[1m750/750\u001b[0m \u001b[32m━━━━━━━━━━━━━━━━━━━━\u001b[0m\u001b[37m\u001b[0m \u001b[1m3s\u001b[0m 3ms/step - accuracy: 0.9165 - loss: 0.3049 - val_accuracy: 0.9181 - val_loss: 0.2940\n",
            "Epoch 39/70\n",
            "\u001b[1m750/750\u001b[0m \u001b[32m━━━━━━━━━━━━━━━━━━━━\u001b[0m\u001b[37m\u001b[0m \u001b[1m4s\u001b[0m 2ms/step - accuracy: 0.9149 - loss: 0.3057 - val_accuracy: 0.9183 - val_loss: 0.2935\n",
            "Epoch 40/70\n",
            "\u001b[1m750/750\u001b[0m \u001b[32m━━━━━━━━━━━━━━━━━━━━\u001b[0m\u001b[37m\u001b[0m \u001b[1m2s\u001b[0m 3ms/step - accuracy: 0.9170 - loss: 0.3010 - val_accuracy: 0.9190 - val_loss: 0.2926\n",
            "Epoch 41/70\n",
            "\u001b[1m750/750\u001b[0m \u001b[32m━━━━━━━━━━━━━━━━━━━━\u001b[0m\u001b[37m\u001b[0m \u001b[1m2s\u001b[0m 2ms/step - accuracy: 0.9137 - loss: 0.3051 - val_accuracy: 0.9188 - val_loss: 0.2921\n",
            "Epoch 42/70\n",
            "\u001b[1m750/750\u001b[0m \u001b[32m━━━━━━━━━━━━━━━━━━━━\u001b[0m\u001b[37m\u001b[0m \u001b[1m3s\u001b[0m 3ms/step - accuracy: 0.9167 - loss: 0.2987 - val_accuracy: 0.9197 - val_loss: 0.2914\n",
            "Epoch 43/70\n",
            "\u001b[1m750/750\u001b[0m \u001b[32m━━━━━━━━━━━━━━━━━━━━\u001b[0m\u001b[37m\u001b[0m \u001b[1m2s\u001b[0m 2ms/step - accuracy: 0.9166 - loss: 0.3005 - val_accuracy: 0.9200 - val_loss: 0.2909\n",
            "Epoch 44/70\n",
            "\u001b[1m750/750\u001b[0m \u001b[32m━━━━━━━━━━━━━━━━━━━━\u001b[0m\u001b[37m\u001b[0m \u001b[1m2s\u001b[0m 3ms/step - accuracy: 0.9174 - loss: 0.2988 - val_accuracy: 0.9198 - val_loss: 0.2902\n",
            "Epoch 45/70\n",
            "\u001b[1m750/750\u001b[0m \u001b[32m━━━━━━━━━━━━━━━━━━━━\u001b[0m\u001b[37m\u001b[0m \u001b[1m2s\u001b[0m 2ms/step - accuracy: 0.9183 - loss: 0.2975 - val_accuracy: 0.9203 - val_loss: 0.2899\n",
            "Epoch 46/70\n",
            "\u001b[1m750/750\u001b[0m \u001b[32m━━━━━━━━━━━━━━━━━━━━\u001b[0m\u001b[37m\u001b[0m \u001b[1m3s\u001b[0m 3ms/step - accuracy: 0.9183 - loss: 0.2937 - val_accuracy: 0.9207 - val_loss: 0.2891\n",
            "Epoch 47/70\n",
            "\u001b[1m750/750\u001b[0m \u001b[32m━━━━━━━━━━━━━━━━━━━━\u001b[0m\u001b[37m\u001b[0m \u001b[1m3s\u001b[0m 4ms/step - accuracy: 0.9181 - loss: 0.2997 - val_accuracy: 0.9204 - val_loss: 0.2886\n",
            "Epoch 48/70\n",
            "\u001b[1m750/750\u001b[0m \u001b[32m━━━━━━━━━━━━━━━━━━━━\u001b[0m\u001b[37m\u001b[0m \u001b[1m4s\u001b[0m 3ms/step - accuracy: 0.9166 - loss: 0.2976 - val_accuracy: 0.9207 - val_loss: 0.2881\n",
            "Epoch 49/70\n",
            "\u001b[1m750/750\u001b[0m \u001b[32m━━━━━━━━━━━━━━━━━━━━\u001b[0m\u001b[37m\u001b[0m \u001b[1m3s\u001b[0m 3ms/step - accuracy: 0.9175 - loss: 0.2947 - val_accuracy: 0.9206 - val_loss: 0.2878\n",
            "Epoch 50/70\n",
            "\u001b[1m750/750\u001b[0m \u001b[32m━━━━━━━━━━━━━━━━━━━━\u001b[0m\u001b[37m\u001b[0m \u001b[1m2s\u001b[0m 3ms/step - accuracy: 0.9181 - loss: 0.2927 - val_accuracy: 0.9206 - val_loss: 0.2873\n",
            "Epoch 51/70\n",
            "\u001b[1m750/750\u001b[0m \u001b[32m━━━━━━━━━━━━━━━━━━━━\u001b[0m\u001b[37m\u001b[0m \u001b[1m3s\u001b[0m 4ms/step - accuracy: 0.9172 - loss: 0.2968 - val_accuracy: 0.9212 - val_loss: 0.2868\n",
            "Epoch 52/70\n",
            "\u001b[1m750/750\u001b[0m \u001b[32m━━━━━━━━━━━━━━━━━━━━\u001b[0m\u001b[37m\u001b[0m \u001b[1m4s\u001b[0m 3ms/step - accuracy: 0.9181 - loss: 0.2919 - val_accuracy: 0.9211 - val_loss: 0.2866\n",
            "Epoch 53/70\n",
            "\u001b[1m750/750\u001b[0m \u001b[32m━━━━━━━━━━━━━━━━━━━━\u001b[0m\u001b[37m\u001b[0m \u001b[1m3s\u001b[0m 3ms/step - accuracy: 0.9194 - loss: 0.2903 - val_accuracy: 0.9212 - val_loss: 0.2861\n",
            "Epoch 54/70\n",
            "\u001b[1m750/750\u001b[0m \u001b[32m━━━━━━━━━━━━━━━━━━━━\u001b[0m\u001b[37m\u001b[0m \u001b[1m2s\u001b[0m 3ms/step - accuracy: 0.9183 - loss: 0.2938 - val_accuracy: 0.9212 - val_loss: 0.2856\n",
            "Epoch 55/70\n",
            "\u001b[1m750/750\u001b[0m \u001b[32m━━━━━━━━━━━━━━━━━━━━\u001b[0m\u001b[37m\u001b[0m \u001b[1m3s\u001b[0m 4ms/step - accuracy: 0.9185 - loss: 0.2920 - val_accuracy: 0.9213 - val_loss: 0.2853\n",
            "Epoch 56/70\n",
            "\u001b[1m750/750\u001b[0m \u001b[32m━━━━━━━━━━━━━━━━━━━━\u001b[0m\u001b[37m\u001b[0m \u001b[1m2s\u001b[0m 3ms/step - accuracy: 0.9185 - loss: 0.2937 - val_accuracy: 0.9215 - val_loss: 0.2849\n",
            "Epoch 57/70\n",
            "\u001b[1m750/750\u001b[0m \u001b[32m━━━━━━━━━━━━━━━━━━━━\u001b[0m\u001b[37m\u001b[0m \u001b[1m2s\u001b[0m 3ms/step - accuracy: 0.9190 - loss: 0.2925 - val_accuracy: 0.9215 - val_loss: 0.2845\n",
            "Epoch 58/70\n",
            "\u001b[1m750/750\u001b[0m \u001b[32m━━━━━━━━━━━━━━━━━━━━\u001b[0m\u001b[37m\u001b[0m \u001b[1m3s\u001b[0m 3ms/step - accuracy: 0.9214 - loss: 0.2877 - val_accuracy: 0.9217 - val_loss: 0.2840\n",
            "Epoch 59/70\n",
            "\u001b[1m750/750\u001b[0m \u001b[32m━━━━━━━━━━━━━━━━━━━━\u001b[0m\u001b[37m\u001b[0m \u001b[1m2s\u001b[0m 3ms/step - accuracy: 0.9184 - loss: 0.2910 - val_accuracy: 0.9217 - val_loss: 0.2839\n",
            "Epoch 60/70\n",
            "\u001b[1m750/750\u001b[0m \u001b[32m━━━━━━━━━━━━━━━━━━━━\u001b[0m\u001b[37m\u001b[0m \u001b[1m3s\u001b[0m 3ms/step - accuracy: 0.9196 - loss: 0.2908 - val_accuracy: 0.9219 - val_loss: 0.2835\n",
            "Epoch 61/70\n",
            "\u001b[1m750/750\u001b[0m \u001b[32m━━━━━━━━━━━━━━━━━━━━\u001b[0m\u001b[37m\u001b[0m \u001b[1m4s\u001b[0m 3ms/step - accuracy: 0.9189 - loss: 0.2907 - val_accuracy: 0.9214 - val_loss: 0.2832\n",
            "Epoch 62/70\n",
            "\u001b[1m750/750\u001b[0m \u001b[32m━━━━━━━━━━━━━━━━━━━━\u001b[0m\u001b[37m\u001b[0m \u001b[1m3s\u001b[0m 3ms/step - accuracy: 0.9193 - loss: 0.2920 - val_accuracy: 0.9220 - val_loss: 0.2828\n",
            "Epoch 63/70\n",
            "\u001b[1m750/750\u001b[0m \u001b[32m━━━━━━━━━━━━━━━━━━━━\u001b[0m\u001b[37m\u001b[0m \u001b[1m2s\u001b[0m 3ms/step - accuracy: 0.9198 - loss: 0.2864 - val_accuracy: 0.9211 - val_loss: 0.2827\n",
            "Epoch 64/70\n",
            "\u001b[1m750/750\u001b[0m \u001b[32m━━━━━━━━━━━━━━━━━━━━\u001b[0m\u001b[37m\u001b[0m \u001b[1m3s\u001b[0m 4ms/step - accuracy: 0.9186 - loss: 0.2906 - val_accuracy: 0.9217 - val_loss: 0.2824\n",
            "Epoch 65/70\n",
            "\u001b[1m750/750\u001b[0m \u001b[32m━━━━━━━━━━━━━━━━━━━━\u001b[0m\u001b[37m\u001b[0m \u001b[1m4s\u001b[0m 3ms/step - accuracy: 0.9220 - loss: 0.2853 - val_accuracy: 0.9222 - val_loss: 0.2820\n",
            "Epoch 66/70\n",
            "\u001b[1m750/750\u001b[0m \u001b[32m━━━━━━━━━━━━━━━━━━━━\u001b[0m\u001b[37m\u001b[0m \u001b[1m3s\u001b[0m 3ms/step - accuracy: 0.9212 - loss: 0.2844 - val_accuracy: 0.9230 - val_loss: 0.2816\n",
            "Epoch 67/70\n",
            "\u001b[1m750/750\u001b[0m \u001b[32m━━━━━━━━━━━━━━━━━━━━\u001b[0m\u001b[37m\u001b[0m \u001b[1m2s\u001b[0m 3ms/step - accuracy: 0.9197 - loss: 0.2859 - val_accuracy: 0.9228 - val_loss: 0.2817\n",
            "Epoch 68/70\n",
            "\u001b[1m750/750\u001b[0m \u001b[32m━━━━━━━━━━━━━━━━━━━━\u001b[0m\u001b[37m\u001b[0m \u001b[1m4s\u001b[0m 4ms/step - accuracy: 0.9206 - loss: 0.2861 - val_accuracy: 0.9227 - val_loss: 0.2811\n",
            "Epoch 69/70\n",
            "\u001b[1m750/750\u001b[0m \u001b[32m━━━━━━━━━━━━━━━━━━━━\u001b[0m\u001b[37m\u001b[0m \u001b[1m4s\u001b[0m 3ms/step - accuracy: 0.9216 - loss: 0.2827 - val_accuracy: 0.9225 - val_loss: 0.2810\n",
            "Epoch 70/70\n",
            "\u001b[1m750/750\u001b[0m \u001b[32m━━━━━━━━━━━━━━━━━━━━\u001b[0m\u001b[37m\u001b[0m \u001b[1m3s\u001b[0m 3ms/step - accuracy: 0.9204 - loss: 0.2881 - val_accuracy: 0.9230 - val_loss: 0.2806\n"
          ]
        }
      ]
    },
    {
      "cell_type": "code",
      "source": [
        "import matplotlib.pyplot as plt\n",
        "%matplotlib inline\n",
        "# list all data in training\n",
        "print(training.history.keys())\n",
        "# summarize training for accuracy\n",
        "plt.plot(training.history['accuracy'])\n",
        "plt.plot(training.history['val_accuracy'])\n",
        "plt.title('model accuracy')\n",
        "plt.ylabel('accuracy')\n",
        "plt.xlabel('epoch')\n",
        "plt.legend(['train', 'test'], loc='upper left')\n",
        "plt.show()\n",
        "# summarize traning for loss\n",
        "plt.plot(training.history['loss'])\n",
        "plt.plot(training.history['val_loss'])\n",
        "plt.title('model loss')\n",
        "plt.ylabel('loss')\n",
        "plt.xlabel('epoch')\n",
        "plt.legend(['train', 'test'], loc='upper left')\n",
        "plt.show()"
      ],
      "metadata": {
        "colab": {
          "base_uri": "https://localhost:8080/",
          "height": 944
        },
        "id": "XXgZt2ap2eZ9",
        "outputId": "9e3aadf0-f35c-42a6-ec0d-fdf73ed10bec"
      },
      "execution_count": 10,
      "outputs": [
        {
          "output_type": "stream",
          "name": "stdout",
          "text": [
            "dict_keys(['accuracy', 'loss', 'val_accuracy', 'val_loss'])\n"
          ]
        },
        {
          "output_type": "display_data",
          "data": {
            "text/plain": [
              "<Figure size 640x480 with 1 Axes>"
            ],
            "image/png": "[encoded data removed]"
          },
          "metadata": {}
        },
        {
          "output_type": "display_data",
          "data": {
            "text/plain": [
              "<Figure size 640x480 with 1 Axes>"
            ],
            "image/png": "[encoded data removed]"
          },
          "metadata": {}
        }
      ]
    },
    {
      "cell_type": "code",
      "source": [
        "#evaluate the model\n",
        "test_loss, test_acc = model_0.evaluate(X_test, Y_test)\n",
        "print('Test accuracy:', test_acc)"
      ],
      "metadata": {
        "colab": {
          "base_uri": "https://localhost:8080/"
        },
        "id": "iKU0nRkd2uwY",
        "outputId": "b1bf9a13-4dcf-4649-9e8d-1ea3d07e60c3"
      },
      "execution_count": 11,
      "outputs": [
        {
          "output_type": "stream",
          "name": "stdout",
          "text": [
            "\u001b[1m313/313\u001b[0m \u001b[32m━━━━━━━━━━━━━━━━━━━━\u001b[0m\u001b[37m\u001b[0m \u001b[1m1s\u001b[0m 2ms/step - accuracy: 0.9101 - loss: 0.3215\n",
            "Test accuracy: 0.9221000075340271\n"
          ]
        }
      ]
    },
    {
      "cell_type": "code",
      "source": [
        "model_0.summary"
      ],
      "metadata": {
        "colab": {
          "base_uri": "https://localhost:8080/",
          "height": 203
        },
        "id": "RDwibB6d2zgJ",
        "outputId": "5114ff2c-45c4-433b-c6b9-c48c29212f87"
      },
      "execution_count": 12,
      "outputs": [
        {
          "output_type": "execute_result",
          "data": {
            "text/plain": [
              "<bound method Model.summary of <Sequential name=sequential, built=True>>"
            ],
            "text/html": [
              "<div style=\"max-width:800px; border: 1px solid var(--colab-border-color);\"><style>\n",
              "      pre.function-repr-contents {\n",
              "        overflow-x: auto;\n",
              "        padding: 8px 12px;\n",
              "        max-height: 500px;\n",
              "      }\n",
              "\n",
              "      pre.function-repr-contents.function-repr-contents-collapsed {\n",
              "        cursor: pointer;\n",
              "        max-height: 100px;\n",
              "      }\n",
              "    </style>\n",
              "    <pre style=\"white-space: initial; background:\n",
              "         var(--colab-secondary-surface-color); padding: 8px 12px;\n",
              "         border-bottom: 1px solid var(--colab-border-color);\"><b>keras.src.models.model.Model.summary</b><br/>def summary(line_length=None, positions=None, print_fn=None, expand_nested=False, show_trainable=False, layer_range=None)</pre><pre class=\"function-repr-contents function-repr-contents-collapsed\" style=\"\"><a class=\"filepath\" style=\"display:none\" href=\"#\">/usr/local/lib/python3.11/dist-packages/keras/src/models/model.py</a>Prints a string summary of the network.\n",
              "\n",
              "Args:\n",
              "    line_length: Total length of printed lines\n",
              "        (e.g. set this to adapt the display to different\n",
              "        terminal window sizes).\n",
              "    positions: Relative or absolute positions of log elements\n",
              "        in each line. If not provided, becomes\n",
              "        `[0.3, 0.6, 0.70, 1.]`. Defaults to `None`.\n",
              "    print_fn: Print function to use. By default, prints to `stdout`.\n",
              "        If `stdout` doesn&#x27;t work in your environment, change to `print`.\n",
              "        It will be called on each line of the summary.\n",
              "        You can set it to a custom function\n",
              "        in order to capture the string summary.\n",
              "    expand_nested: Whether to expand the nested models.\n",
              "        Defaults to `False`.\n",
              "    show_trainable: Whether to show if a layer is trainable.\n",
              "        Defaults to `False`.\n",
              "    layer_range: a list or tuple of 2 strings,\n",
              "        which is the starting layer name and ending layer name\n",
              "        (both inclusive) indicating the range of layers to be printed\n",
              "        in summary. It also accepts regex patterns instead of exact\n",
              "        names. In this case, the start predicate will be\n",
              "        the first element that matches `layer_range[0]`\n",
              "        and the end predicate will be the last element\n",
              "        that matches `layer_range[1]`.\n",
              "        By default `None` considers all layers of the model.\n",
              "\n",
              "Raises:\n",
              "    ValueError: if `summary()` is called before the model is built.</pre>\n",
              "      <script>\n",
              "      if (google.colab.kernel.accessAllowed && google.colab.files && google.colab.files.view) {\n",
              "        for (const element of document.querySelectorAll('.filepath')) {\n",
              "          element.style.display = 'block'\n",
              "          element.onclick = (event) => {\n",
              "            event.preventDefault();\n",
              "            event.stopPropagation();\n",
              "            google.colab.files.view(element.textContent, 218);\n",
              "          };\n",
              "        }\n",
              "      }\n",
              "      for (const element of document.querySelectorAll('.function-repr-contents')) {\n",
              "        element.onclick = (event) => {\n",
              "          event.preventDefault();\n",
              "          event.stopPropagation();\n",
              "          element.classList.toggle('function-repr-contents-collapsed');\n",
              "        };\n",
              "      }\n",
              "      </script>\n",
              "      </div>"
            ]
          },
          "metadata": {},
          "execution_count": 12
        }
      ]
    },
    {
      "cell_type": "code",
      "source": [
        "model_0.get_config()"
      ],
      "metadata": {
        "colab": {
          "base_uri": "https://localhost:8080/"
        },
        "id": "FQo8Ux3_29xX",
        "outputId": "7c5464be-d024-43d9-ed8a-2b4cd8790c49"
      },
      "execution_count": 13,
      "outputs": [
        {
          "output_type": "execute_result",
          "data": {
            "text/plain": [
              "{'name': 'sequential',\n",
              " 'trainable': True,\n",
              " 'dtype': {'module': 'keras',\n",
              "  'class_name': 'DTypePolicy',\n",
              "  'config': {'name': 'float32'},\n",
              "  'registered_name': None},\n",
              " 'layers': [{'module': 'keras.layers',\n",
              "   'class_name': 'InputLayer',\n",
              "   'config': {'batch_shape': (None, 784),\n",
              "    'dtype': 'float32',\n",
              "    'sparse': False,\n",
              "    'name': 'input_layer'},\n",
              "   'registered_name': None},\n",
              "  {'module': 'keras.layers',\n",
              "   'class_name': 'Dense',\n",
              "   'config': {'name': 'dense_layer',\n",
              "    'trainable': True,\n",
              "    'dtype': {'module': 'keras',\n",
              "     'class_name': 'DTypePolicy',\n",
              "     'config': {'name': 'float32'},\n",
              "     'registered_name': None},\n",
              "    'units': 10,\n",
              "    'activation': 'softmax',\n",
              "    'use_bias': True,\n",
              "    'kernel_initializer': {'module': 'keras.initializers',\n",
              "     'class_name': 'GlorotUniform',\n",
              "     'config': {'seed': None},\n",
              "     'registered_name': None},\n",
              "    'bias_initializer': {'module': 'keras.initializers',\n",
              "     'class_name': 'Zeros',\n",
              "     'config': {},\n",
              "     'registered_name': None},\n",
              "    'kernel_regularizer': None,\n",
              "    'bias_regularizer': None,\n",
              "    'kernel_constraint': None,\n",
              "    'bias_constraint': None},\n",
              "   'registered_name': None,\n",
              "   'build_config': {'input_shape': (None, 784)}}],\n",
              " 'build_input_shape': (None, 784)}"
            ]
          },
          "metadata": {},
          "execution_count": 13
        }
      ]
    },
    {
      "cell_type": "markdown",
      "source": [
        "#Improving the train model"
      ],
      "metadata": {
        "id": "5Ff0XVIt3L1V"
      }
    },
    {
      "cell_type": "code",
      "source": [
        "#Most common type of model is a stack of layers\n",
        "model_1 = tf.keras.Sequential()\n",
        "N_hidden = 64\n",
        "# Adds a densely-connected layer with 64 units to the model:\n",
        "model_1.add(Dense(N_hidden, name='dense_layer', input_shape=(784,), activation = 'relu'))\n",
        "# Now the model will take as input arrays of shape (*, 784)# and output arrays of shape (*, 64)\n",
        "\n",
        "# Adding another dense layer:\n",
        "model_1.add(Dense(N_hidden, name='dense_layer_2', activation='relu'))\n",
        "# After the first layer, you don't need to specify\u000b# the size of the input anymore:\n",
        "# Add an output layer with 10 output units (10 different classes):\n",
        "model_1.add(Dense(10, name='dense_layer_3', activation = 'softmax'))"
      ],
      "metadata": {
        "id": "zaUzHtv03a2R"
      },
      "execution_count": 14,
      "outputs": []
    },
    {
      "cell_type": "code",
      "source": [
        "# Compiling the model.\n",
        "model_1.compile(optimizer='SGD',\n",
        "              loss='categorical_crossentropy',\n",
        "              metrics=['accuracy'])"
      ],
      "metadata": {
        "id": "jilOp1SP34qo"
      },
      "execution_count": 16,
      "outputs": []
    },
    {
      "cell_type": "code",
      "source": [
        "# Training the model.\n",
        "training = model_1.fit(X_train, Y_train, batch_size=64, epochs=100, validation_split=0.2)"
      ],
      "metadata": {
        "colab": {
          "base_uri": "https://localhost:8080/"
        },
        "id": "FyDi1C8o4DbG",
        "outputId": "af076f1f-6f39-4151-ae77-11f50a49f2c2"
      },
      "execution_count": 17,
      "outputs": [
        {
          "output_type": "stream",
          "name": "stdout",
          "text": [
            "Epoch 1/100\n",
            "\u001b[1m750/750\u001b[0m \u001b[32m━━━━━━━━━━━━━━━━━━━━\u001b[0m\u001b[37m\u001b[0m \u001b[1m7s\u001b[0m 8ms/step - accuracy: 0.5336 - loss: 1.6210 - val_accuracy: 0.8717 - val_loss: 0.4867\n",
            "Epoch 2/100\n",
            "\u001b[1m750/750\u001b[0m \u001b[32m━━━━━━━━━━━━━━━━━━━━\u001b[0m\u001b[37m\u001b[0m \u001b[1m7s\u001b[0m 4ms/step - accuracy: 0.8714 - loss: 0.4700 - val_accuracy: 0.9003 - val_loss: 0.3518\n",
            "Epoch 3/100\n",
            "\u001b[1m750/750\u001b[0m \u001b[32m━━━━━━━━━━━━━━━━━━━━\u001b[0m\u001b[37m\u001b[0m \u001b[1m6s\u001b[0m 5ms/step - accuracy: 0.8967 - loss: 0.3622 - val_accuracy: 0.9120 - val_loss: 0.3056\n",
            "Epoch 4/100\n",
            "\u001b[1m750/750\u001b[0m \u001b[32m━━━━━━━━━━━━━━━━━━━━\u001b[0m\u001b[37m\u001b[0m \u001b[1m4s\u001b[0m 4ms/step - accuracy: 0.9101 - loss: 0.3177 - val_accuracy: 0.9193 - val_loss: 0.2823\n",
            "Epoch 5/100\n",
            "\u001b[1m750/750\u001b[0m \u001b[32m━━━━━━━━━━━━━━━━━━━━\u001b[0m\u001b[37m\u001b[0m \u001b[1m5s\u001b[0m 3ms/step - accuracy: 0.9176 - loss: 0.2871 - val_accuracy: 0.9253 - val_loss: 0.2621\n",
            "Epoch 6/100\n",
            "\u001b[1m750/750\u001b[0m \u001b[32m━━━━━━━━━━━━━━━━━━━━\u001b[0m\u001b[37m\u001b[0m \u001b[1m5s\u001b[0m 4ms/step - accuracy: 0.9247 - loss: 0.2670 - val_accuracy: 0.9296 - val_loss: 0.2451\n",
            "Epoch 7/100\n",
            "\u001b[1m750/750\u001b[0m \u001b[32m━━━━━━━━━━━━━━━━━━━━\u001b[0m\u001b[37m\u001b[0m \u001b[1m5s\u001b[0m 4ms/step - accuracy: 0.9265 - loss: 0.2604 - val_accuracy: 0.9318 - val_loss: 0.2315\n",
            "Epoch 8/100\n",
            "\u001b[1m750/750\u001b[0m \u001b[32m━━━━━━━━━━━━━━━━━━━━\u001b[0m\u001b[37m\u001b[0m \u001b[1m6s\u001b[0m 5ms/step - accuracy: 0.9334 - loss: 0.2324 - val_accuracy: 0.9368 - val_loss: 0.2190\n",
            "Epoch 9/100\n",
            "\u001b[1m750/750\u001b[0m \u001b[32m━━━━━━━━━━━━━━━━━━━━\u001b[0m\u001b[37m\u001b[0m \u001b[1m2s\u001b[0m 3ms/step - accuracy: 0.9372 - loss: 0.2186 - val_accuracy: 0.9384 - val_loss: 0.2122\n",
            "Epoch 10/100\n",
            "\u001b[1m750/750\u001b[0m \u001b[32m━━━━━━━━━━━━━━━━━━━━\u001b[0m\u001b[37m\u001b[0m \u001b[1m3s\u001b[0m 4ms/step - accuracy: 0.9381 - loss: 0.2138 - val_accuracy: 0.9433 - val_loss: 0.1998\n",
            "Epoch 11/100\n",
            "\u001b[1m750/750\u001b[0m \u001b[32m━━━━━━━━━━━━━━━━━━━━\u001b[0m\u001b[37m\u001b[0m \u001b[1m6s\u001b[0m 5ms/step - accuracy: 0.9416 - loss: 0.2022 - val_accuracy: 0.9431 - val_loss: 0.1981\n",
            "Epoch 12/100\n",
            "\u001b[1m750/750\u001b[0m \u001b[32m━━━━━━━━━━━━━━━━━━━━\u001b[0m\u001b[37m\u001b[0m \u001b[1m3s\u001b[0m 3ms/step - accuracy: 0.9449 - loss: 0.1943 - val_accuracy: 0.9463 - val_loss: 0.1879\n",
            "Epoch 13/100\n",
            "\u001b[1m750/750\u001b[0m \u001b[32m━━━━━━━━━━━━━━━━━━━━\u001b[0m\u001b[37m\u001b[0m \u001b[1m3s\u001b[0m 4ms/step - accuracy: 0.9484 - loss: 0.1778 - val_accuracy: 0.9495 - val_loss: 0.1801\n",
            "Epoch 14/100\n",
            "\u001b[1m750/750\u001b[0m \u001b[32m━━━━━━━━━━━━━━━━━━━━\u001b[0m\u001b[37m\u001b[0m \u001b[1m5s\u001b[0m 4ms/step - accuracy: 0.9499 - loss: 0.1767 - val_accuracy: 0.9507 - val_loss: 0.1732\n",
            "Epoch 15/100\n",
            "\u001b[1m750/750\u001b[0m \u001b[32m━━━━━━━━━━━━━━━━━━━━\u001b[0m\u001b[37m\u001b[0m \u001b[1m5s\u001b[0m 4ms/step - accuracy: 0.9508 - loss: 0.1669 - val_accuracy: 0.9530 - val_loss: 0.1685\n",
            "Epoch 16/100\n",
            "\u001b[1m750/750\u001b[0m \u001b[32m━━━━━━━━━━━━━━━━━━━━\u001b[0m\u001b[37m\u001b[0m \u001b[1m5s\u001b[0m 3ms/step - accuracy: 0.9540 - loss: 0.1592 - val_accuracy: 0.9542 - val_loss: 0.1648\n",
            "Epoch 17/100\n",
            "\u001b[1m750/750\u001b[0m \u001b[32m━━━━━━━━━━━━━━━━━━━━\u001b[0m\u001b[37m\u001b[0m \u001b[1m3s\u001b[0m 4ms/step - accuracy: 0.9557 - loss: 0.1546 - val_accuracy: 0.9555 - val_loss: 0.1581\n",
            "Epoch 18/100\n",
            "\u001b[1m750/750\u001b[0m \u001b[32m━━━━━━━━━━━━━━━━━━━━\u001b[0m\u001b[37m\u001b[0m \u001b[1m3s\u001b[0m 4ms/step - accuracy: 0.9567 - loss: 0.1491 - val_accuracy: 0.9567 - val_loss: 0.1532\n",
            "Epoch 19/100\n",
            "\u001b[1m750/750\u001b[0m \u001b[32m━━━━━━━━━━━━━━━━━━━━\u001b[0m\u001b[37m\u001b[0m \u001b[1m2s\u001b[0m 3ms/step - accuracy: 0.9563 - loss: 0.1470 - val_accuracy: 0.9587 - val_loss: 0.1510\n",
            "Epoch 20/100\n",
            "\u001b[1m750/750\u001b[0m \u001b[32m━━━━━━━━━━━━━━━━━━━━\u001b[0m\u001b[37m\u001b[0m \u001b[1m3s\u001b[0m 3ms/step - accuracy: 0.9602 - loss: 0.1385 - val_accuracy: 0.9601 - val_loss: 0.1470\n",
            "Epoch 21/100\n",
            "\u001b[1m750/750\u001b[0m \u001b[32m━━━━━━━━━━━━━━━━━━━━\u001b[0m\u001b[37m\u001b[0m \u001b[1m3s\u001b[0m 4ms/step - accuracy: 0.9601 - loss: 0.1367 - val_accuracy: 0.9606 - val_loss: 0.1440\n",
            "Epoch 22/100\n",
            "\u001b[1m750/750\u001b[0m \u001b[32m━━━━━━━━━━━━━━━━━━━━\u001b[0m\u001b[37m\u001b[0m \u001b[1m5s\u001b[0m 4ms/step - accuracy: 0.9634 - loss: 0.1239 - val_accuracy: 0.9626 - val_loss: 0.1397\n",
            "Epoch 23/100\n",
            "\u001b[1m750/750\u001b[0m \u001b[32m━━━━━━━━━━━━━━━━━━━━\u001b[0m\u001b[37m\u001b[0m \u001b[1m5s\u001b[0m 4ms/step - accuracy: 0.9629 - loss: 0.1271 - val_accuracy: 0.9613 - val_loss: 0.1370\n",
            "Epoch 24/100\n",
            "\u001b[1m750/750\u001b[0m \u001b[32m━━━━━━━━━━━━━━━━━━━━\u001b[0m\u001b[37m\u001b[0m \u001b[1m3s\u001b[0m 4ms/step - accuracy: 0.9653 - loss: 0.1208 - val_accuracy: 0.9637 - val_loss: 0.1331\n",
            "Epoch 25/100\n",
            "\u001b[1m750/750\u001b[0m \u001b[32m━━━━━━━━━━━━━━━━━━━━\u001b[0m\u001b[37m\u001b[0m \u001b[1m3s\u001b[0m 4ms/step - accuracy: 0.9671 - loss: 0.1157 - val_accuracy: 0.9640 - val_loss: 0.1317\n",
            "Epoch 26/100\n",
            "\u001b[1m750/750\u001b[0m \u001b[32m━━━━━━━━━━━━━━━━━━━━\u001b[0m\u001b[37m\u001b[0m \u001b[1m5s\u001b[0m 4ms/step - accuracy: 0.9681 - loss: 0.1114 - val_accuracy: 0.9630 - val_loss: 0.1304\n",
            "Epoch 27/100\n",
            "\u001b[1m750/750\u001b[0m \u001b[32m━━━━━━━━━━━━━━━━━━━━\u001b[0m\u001b[37m\u001b[0m \u001b[1m6s\u001b[0m 5ms/step - accuracy: 0.9693 - loss: 0.1080 - val_accuracy: 0.9643 - val_loss: 0.1278\n",
            "Epoch 28/100\n",
            "\u001b[1m750/750\u001b[0m \u001b[32m━━━━━━━━━━━━━━━━━━━━\u001b[0m\u001b[37m\u001b[0m \u001b[1m4s\u001b[0m 4ms/step - accuracy: 0.9687 - loss: 0.1079 - val_accuracy: 0.9653 - val_loss: 0.1246\n",
            "Epoch 29/100\n",
            "\u001b[1m750/750\u001b[0m \u001b[32m━━━━━━━━━━━━━━━━━━━━\u001b[0m\u001b[37m\u001b[0m \u001b[1m3s\u001b[0m 4ms/step - accuracy: 0.9699 - loss: 0.1062 - val_accuracy: 0.9653 - val_loss: 0.1235\n",
            "Epoch 30/100\n",
            "\u001b[1m750/750\u001b[0m \u001b[32m━━━━━━━━━━━━━━━━━━━━\u001b[0m\u001b[37m\u001b[0m \u001b[1m6s\u001b[0m 5ms/step - accuracy: 0.9716 - loss: 0.0992 - val_accuracy: 0.9660 - val_loss: 0.1217\n",
            "Epoch 31/100\n",
            "\u001b[1m750/750\u001b[0m \u001b[32m━━━━━━━━━━━━━━━━━━━━\u001b[0m\u001b[37m\u001b[0m \u001b[1m3s\u001b[0m 4ms/step - accuracy: 0.9713 - loss: 0.1011 - val_accuracy: 0.9656 - val_loss: 0.1212\n",
            "Epoch 32/100\n",
            "\u001b[1m750/750\u001b[0m \u001b[32m━━━━━━━━━━━━━━━━━━━━\u001b[0m\u001b[37m\u001b[0m \u001b[1m5s\u001b[0m 3ms/step - accuracy: 0.9743 - loss: 0.0932 - val_accuracy: 0.9661 - val_loss: 0.1199\n",
            "Epoch 33/100\n",
            "\u001b[1m750/750\u001b[0m \u001b[32m━━━━━━━━━━━━━━━━━━━━\u001b[0m\u001b[37m\u001b[0m \u001b[1m6s\u001b[0m 4ms/step - accuracy: 0.9745 - loss: 0.0932 - val_accuracy: 0.9664 - val_loss: 0.1169\n",
            "Epoch 34/100\n",
            "\u001b[1m750/750\u001b[0m \u001b[32m━━━━━━━━━━━━━━━━━━━━\u001b[0m\u001b[37m\u001b[0m \u001b[1m5s\u001b[0m 4ms/step - accuracy: 0.9734 - loss: 0.0932 - val_accuracy: 0.9676 - val_loss: 0.1156\n",
            "Epoch 35/100\n",
            "\u001b[1m750/750\u001b[0m \u001b[32m━━━━━━━━━━━━━━━━━━━━\u001b[0m\u001b[37m\u001b[0m \u001b[1m2s\u001b[0m 3ms/step - accuracy: 0.9747 - loss: 0.0916 - val_accuracy: 0.9659 - val_loss: 0.1144\n",
            "Epoch 36/100\n",
            "\u001b[1m750/750\u001b[0m \u001b[32m━━━━━━━━━━━━━━━━━━━━\u001b[0m\u001b[37m\u001b[0m \u001b[1m4s\u001b[0m 5ms/step - accuracy: 0.9757 - loss: 0.0874 - val_accuracy: 0.9682 - val_loss: 0.1123\n",
            "Epoch 37/100\n",
            "\u001b[1m750/750\u001b[0m \u001b[32m━━━━━━━━━━━━━━━━━━━━\u001b[0m\u001b[37m\u001b[0m \u001b[1m4s\u001b[0m 4ms/step - accuracy: 0.9762 - loss: 0.0853 - val_accuracy: 0.9682 - val_loss: 0.1108\n",
            "Epoch 38/100\n",
            "\u001b[1m750/750\u001b[0m \u001b[32m━━━━━━━━━━━━━━━━━━━━\u001b[0m\u001b[37m\u001b[0m \u001b[1m5s\u001b[0m 4ms/step - accuracy: 0.9751 - loss: 0.0870 - val_accuracy: 0.9676 - val_loss: 0.1106\n",
            "Epoch 39/100\n",
            "\u001b[1m750/750\u001b[0m \u001b[32m━━━━━━━━━━━━━━━━━━━━\u001b[0m\u001b[37m\u001b[0m \u001b[1m5s\u001b[0m 4ms/step - accuracy: 0.9760 - loss: 0.0836 - val_accuracy: 0.9686 - val_loss: 0.1087\n",
            "Epoch 40/100\n",
            "\u001b[1m750/750\u001b[0m \u001b[32m━━━━━━━━━━━━━━━━━━━━\u001b[0m\u001b[37m\u001b[0m \u001b[1m5s\u001b[0m 4ms/step - accuracy: 0.9786 - loss: 0.0789 - val_accuracy: 0.9685 - val_loss: 0.1077\n",
            "Epoch 41/100\n",
            "\u001b[1m750/750\u001b[0m \u001b[32m━━━━━━━━━━━━━━━━━━━━\u001b[0m\u001b[37m\u001b[0m \u001b[1m3s\u001b[0m 4ms/step - accuracy: 0.9784 - loss: 0.0774 - val_accuracy: 0.9683 - val_loss: 0.1081\n",
            "Epoch 42/100\n",
            "\u001b[1m750/750\u001b[0m \u001b[32m━━━━━━━━━━━━━━━━━━━━\u001b[0m\u001b[37m\u001b[0m \u001b[1m3s\u001b[0m 4ms/step - accuracy: 0.9793 - loss: 0.0751 - val_accuracy: 0.9687 - val_loss: 0.1081\n",
            "Epoch 43/100\n",
            "\u001b[1m750/750\u001b[0m \u001b[32m━━━━━━━━━━━━━━━━━━━━\u001b[0m\u001b[37m\u001b[0m \u001b[1m3s\u001b[0m 4ms/step - accuracy: 0.9795 - loss: 0.0733 - val_accuracy: 0.9680 - val_loss: 0.1065\n",
            "Epoch 44/100\n",
            "\u001b[1m750/750\u001b[0m \u001b[32m━━━━━━━━━━━━━━━━━━━━\u001b[0m\u001b[37m\u001b[0m \u001b[1m3s\u001b[0m 4ms/step - accuracy: 0.9792 - loss: 0.0741 - val_accuracy: 0.9688 - val_loss: 0.1068\n",
            "Epoch 45/100\n",
            "\u001b[1m750/750\u001b[0m \u001b[32m━━━━━━━━━━━━━━━━━━━━\u001b[0m\u001b[37m\u001b[0m \u001b[1m6s\u001b[0m 5ms/step - accuracy: 0.9811 - loss: 0.0682 - val_accuracy: 0.9690 - val_loss: 0.1055\n",
            "Epoch 46/100\n",
            "\u001b[1m750/750\u001b[0m \u001b[32m━━━━━━━━━━━━━━━━━━━━\u001b[0m\u001b[37m\u001b[0m \u001b[1m2s\u001b[0m 3ms/step - accuracy: 0.9802 - loss: 0.0700 - val_accuracy: 0.9690 - val_loss: 0.1050\n",
            "Epoch 47/100\n",
            "\u001b[1m750/750\u001b[0m \u001b[32m━━━━━━━━━━━━━━━━━━━━\u001b[0m\u001b[37m\u001b[0m \u001b[1m3s\u001b[0m 4ms/step - accuracy: 0.9809 - loss: 0.0683 - val_accuracy: 0.9688 - val_loss: 0.1030\n",
            "Epoch 48/100\n",
            "\u001b[1m750/750\u001b[0m \u001b[32m━━━━━━━━━━━━━━━━━━━━\u001b[0m\u001b[37m\u001b[0m \u001b[1m6s\u001b[0m 5ms/step - accuracy: 0.9815 - loss: 0.0666 - val_accuracy: 0.9691 - val_loss: 0.1017\n",
            "Epoch 49/100\n",
            "\u001b[1m750/750\u001b[0m \u001b[32m━━━━━━━━━━━━━━━━━━━━\u001b[0m\u001b[37m\u001b[0m \u001b[1m4s\u001b[0m 3ms/step - accuracy: 0.9826 - loss: 0.0651 - val_accuracy: 0.9697 - val_loss: 0.1010\n",
            "Epoch 50/100\n",
            "\u001b[1m750/750\u001b[0m \u001b[32m━━━━━━━━━━━━━━━━━━━━\u001b[0m\u001b[37m\u001b[0m \u001b[1m5s\u001b[0m 4ms/step - accuracy: 0.9825 - loss: 0.0652 - val_accuracy: 0.9691 - val_loss: 0.1007\n",
            "Epoch 51/100\n",
            "\u001b[1m750/750\u001b[0m \u001b[32m━━━━━━━━━━━━━━━━━━━━\u001b[0m\u001b[37m\u001b[0m \u001b[1m5s\u001b[0m 4ms/step - accuracy: 0.9819 - loss: 0.0647 - val_accuracy: 0.9698 - val_loss: 0.0995\n",
            "Epoch 52/100\n",
            "\u001b[1m750/750\u001b[0m \u001b[32m━━━━━━━━━━━━━━━━━━━━\u001b[0m\u001b[37m\u001b[0m \u001b[1m5s\u001b[0m 4ms/step - accuracy: 0.9834 - loss: 0.0595 - val_accuracy: 0.9693 - val_loss: 0.1005\n",
            "Epoch 53/100\n",
            "\u001b[1m750/750\u001b[0m \u001b[32m━━━━━━━━━━━━━━━━━━━━\u001b[0m\u001b[37m\u001b[0m \u001b[1m6s\u001b[0m 5ms/step - accuracy: 0.9840 - loss: 0.0574 - val_accuracy: 0.9698 - val_loss: 0.0993\n",
            "Epoch 54/100\n",
            "\u001b[1m750/750\u001b[0m \u001b[32m━━━━━━━━━━━━━━━━━━━━\u001b[0m\u001b[37m\u001b[0m \u001b[1m3s\u001b[0m 4ms/step - accuracy: 0.9838 - loss: 0.0593 - val_accuracy: 0.9705 - val_loss: 0.0986\n",
            "Epoch 55/100\n",
            "\u001b[1m750/750\u001b[0m \u001b[32m━━━━━━━━━━━━━━━━━━━━\u001b[0m\u001b[37m\u001b[0m \u001b[1m5s\u001b[0m 4ms/step - accuracy: 0.9844 - loss: 0.0601 - val_accuracy: 0.9705 - val_loss: 0.0995\n",
            "Epoch 56/100\n",
            "\u001b[1m750/750\u001b[0m \u001b[32m━━━━━━━━━━━━━━━━━━━━\u001b[0m\u001b[37m\u001b[0m \u001b[1m3s\u001b[0m 4ms/step - accuracy: 0.9851 - loss: 0.0550 - val_accuracy: 0.9704 - val_loss: 0.0980\n",
            "Epoch 57/100\n",
            "\u001b[1m750/750\u001b[0m \u001b[32m━━━━━━━━━━━━━━━━━━━━\u001b[0m\u001b[37m\u001b[0m \u001b[1m5s\u001b[0m 3ms/step - accuracy: 0.9855 - loss: 0.0576 - val_accuracy: 0.9704 - val_loss: 0.0977\n",
            "Epoch 58/100\n",
            "\u001b[1m750/750\u001b[0m \u001b[32m━━━━━━━━━━━━━━━━━━━━\u001b[0m\u001b[37m\u001b[0m \u001b[1m5s\u001b[0m 3ms/step - accuracy: 0.9856 - loss: 0.0539 - val_accuracy: 0.9701 - val_loss: 0.0980\n",
            "Epoch 59/100\n",
            "\u001b[1m750/750\u001b[0m \u001b[32m━━━━━━━━━━━━━━━━━━━━\u001b[0m\u001b[37m\u001b[0m \u001b[1m5s\u001b[0m 4ms/step - accuracy: 0.9857 - loss: 0.0543 - val_accuracy: 0.9702 - val_loss: 0.0985\n",
            "Epoch 60/100\n",
            "\u001b[1m750/750\u001b[0m \u001b[32m━━━━━━━━━━━━━━━━━━━━\u001b[0m\u001b[37m\u001b[0m \u001b[1m3s\u001b[0m 4ms/step - accuracy: 0.9859 - loss: 0.0535 - val_accuracy: 0.9712 - val_loss: 0.0961\n",
            "Epoch 61/100\n",
            "\u001b[1m750/750\u001b[0m \u001b[32m━━━━━━━━━━━━━━━━━━━━\u001b[0m\u001b[37m\u001b[0m \u001b[1m5s\u001b[0m 4ms/step - accuracy: 0.9855 - loss: 0.0536 - val_accuracy: 0.9707 - val_loss: 0.0961\n",
            "Epoch 62/100\n",
            "\u001b[1m750/750\u001b[0m \u001b[32m━━━━━━━━━━━━━━━━━━━━\u001b[0m\u001b[37m\u001b[0m \u001b[1m5s\u001b[0m 6ms/step - accuracy: 0.9866 - loss: 0.0497 - val_accuracy: 0.9697 - val_loss: 0.0968\n",
            "Epoch 63/100\n",
            "\u001b[1m750/750\u001b[0m \u001b[32m━━━━━━━━━━━━━━━━━━━━\u001b[0m\u001b[37m\u001b[0m \u001b[1m3s\u001b[0m 4ms/step - accuracy: 0.9872 - loss: 0.0497 - val_accuracy: 0.9698 - val_loss: 0.0964\n",
            "Epoch 64/100\n",
            "\u001b[1m750/750\u001b[0m \u001b[32m━━━━━━━━━━━━━━━━━━━━\u001b[0m\u001b[37m\u001b[0m \u001b[1m5s\u001b[0m 4ms/step - accuracy: 0.9879 - loss: 0.0471 - val_accuracy: 0.9698 - val_loss: 0.0962\n",
            "Epoch 65/100\n",
            "\u001b[1m750/750\u001b[0m \u001b[32m━━━━━━━━━━━━━━━━━━━━\u001b[0m\u001b[37m\u001b[0m \u001b[1m5s\u001b[0m 4ms/step - accuracy: 0.9870 - loss: 0.0494 - val_accuracy: 0.9700 - val_loss: 0.0972\n",
            "Epoch 66/100\n",
            "\u001b[1m750/750\u001b[0m \u001b[32m━━━━━━━━━━━━━━━━━━━━\u001b[0m\u001b[37m\u001b[0m \u001b[1m5s\u001b[0m 4ms/step - accuracy: 0.9889 - loss: 0.0448 - val_accuracy: 0.9712 - val_loss: 0.0957\n",
            "Epoch 67/100\n",
            "\u001b[1m750/750\u001b[0m \u001b[32m━━━━━━━━━━━━━━━━━━━━\u001b[0m\u001b[37m\u001b[0m \u001b[1m3s\u001b[0m 4ms/step - accuracy: 0.9892 - loss: 0.0449 - val_accuracy: 0.9707 - val_loss: 0.0963\n",
            "Epoch 68/100\n",
            "\u001b[1m750/750\u001b[0m \u001b[32m━━━━━━━━━━━━━━━━━━━━\u001b[0m\u001b[37m\u001b[0m \u001b[1m5s\u001b[0m 4ms/step - accuracy: 0.9890 - loss: 0.0426 - val_accuracy: 0.9716 - val_loss: 0.0955\n",
            "Epoch 69/100\n",
            "\u001b[1m750/750\u001b[0m \u001b[32m━━━━━━━━━━━━━━━━━━━━\u001b[0m\u001b[37m\u001b[0m \u001b[1m3s\u001b[0m 3ms/step - accuracy: 0.9896 - loss: 0.0438 - val_accuracy: 0.9703 - val_loss: 0.0960\n",
            "Epoch 70/100\n",
            "\u001b[1m750/750\u001b[0m \u001b[32m━━━━━━━━━━━━━━━━━━━━\u001b[0m\u001b[37m\u001b[0m \u001b[1m3s\u001b[0m 4ms/step - accuracy: 0.9893 - loss: 0.0439 - val_accuracy: 0.9707 - val_loss: 0.0962\n",
            "Epoch 71/100\n",
            "\u001b[1m750/750\u001b[0m \u001b[32m━━━━━━━━━━━━━━━━━━━━\u001b[0m\u001b[37m\u001b[0m \u001b[1m5s\u001b[0m 4ms/step - accuracy: 0.9891 - loss: 0.0437 - val_accuracy: 0.9703 - val_loss: 0.0943\n",
            "Epoch 72/100\n",
            "\u001b[1m750/750\u001b[0m \u001b[32m━━━━━━━━━━━━━━━━━━━━\u001b[0m\u001b[37m\u001b[0m \u001b[1m3s\u001b[0m 4ms/step - accuracy: 0.9900 - loss: 0.0413 - val_accuracy: 0.9706 - val_loss: 0.0958\n",
            "Epoch 73/100\n",
            "\u001b[1m750/750\u001b[0m \u001b[32m━━━━━━━━━━━━━━━━━━━━\u001b[0m\u001b[37m\u001b[0m \u001b[1m5s\u001b[0m 4ms/step - accuracy: 0.9901 - loss: 0.0410 - val_accuracy: 0.9712 - val_loss: 0.0948\n",
            "Epoch 74/100\n",
            "\u001b[1m750/750\u001b[0m \u001b[32m━━━━━━━━━━━━━━━━━━━━\u001b[0m\u001b[37m\u001b[0m \u001b[1m5s\u001b[0m 4ms/step - accuracy: 0.9900 - loss: 0.0398 - val_accuracy: 0.9713 - val_loss: 0.0948\n",
            "Epoch 75/100\n",
            "\u001b[1m750/750\u001b[0m \u001b[32m━━━━━━━━━━━━━━━━━━━━\u001b[0m\u001b[37m\u001b[0m \u001b[1m5s\u001b[0m 4ms/step - accuracy: 0.9903 - loss: 0.0410 - val_accuracy: 0.9701 - val_loss: 0.0969\n",
            "Epoch 76/100\n",
            "\u001b[1m750/750\u001b[0m \u001b[32m━━━━━━━━━━━━━━━━━━━━\u001b[0m\u001b[37m\u001b[0m \u001b[1m5s\u001b[0m 4ms/step - accuracy: 0.9909 - loss: 0.0384 - val_accuracy: 0.9707 - val_loss: 0.0951\n",
            "Epoch 77/100\n",
            "\u001b[1m750/750\u001b[0m \u001b[32m━━━━━━━━━━━━━━━━━━━━\u001b[0m\u001b[37m\u001b[0m \u001b[1m3s\u001b[0m 4ms/step - accuracy: 0.9915 - loss: 0.0369 - val_accuracy: 0.9714 - val_loss: 0.0949\n",
            "Epoch 78/100\n",
            "\u001b[1m750/750\u001b[0m \u001b[32m━━━━━━━━━━━━━━━━━━━━\u001b[0m\u001b[37m\u001b[0m \u001b[1m3s\u001b[0m 3ms/step - accuracy: 0.9914 - loss: 0.0355 - val_accuracy: 0.9713 - val_loss: 0.0948\n",
            "Epoch 79/100\n",
            "\u001b[1m750/750\u001b[0m \u001b[32m━━━━━━━━━━━━━━━━━━━━\u001b[0m\u001b[37m\u001b[0m \u001b[1m4s\u001b[0m 5ms/step - accuracy: 0.9914 - loss: 0.0368 - val_accuracy: 0.9712 - val_loss: 0.0941\n",
            "Epoch 80/100\n",
            "\u001b[1m750/750\u001b[0m \u001b[32m━━━━━━━━━━━━━━━━━━━━\u001b[0m\u001b[37m\u001b[0m \u001b[1m4s\u001b[0m 4ms/step - accuracy: 0.9918 - loss: 0.0344 - val_accuracy: 0.9718 - val_loss: 0.0954\n",
            "Epoch 81/100\n",
            "\u001b[1m750/750\u001b[0m \u001b[32m━━━━━━━━━━━━━━━━━━━━\u001b[0m\u001b[37m\u001b[0m \u001b[1m3s\u001b[0m 4ms/step - accuracy: 0.9916 - loss: 0.0372 - val_accuracy: 0.9707 - val_loss: 0.0945\n",
            "Epoch 82/100\n",
            "\u001b[1m750/750\u001b[0m \u001b[32m━━━━━━━━━━━━━━━━━━━━\u001b[0m\u001b[37m\u001b[0m \u001b[1m6s\u001b[0m 4ms/step - accuracy: 0.9930 - loss: 0.0338 - val_accuracy: 0.9705 - val_loss: 0.0965\n",
            "Epoch 83/100\n",
            "\u001b[1m750/750\u001b[0m \u001b[32m━━━━━━━━━━━━━━━━━━━━\u001b[0m\u001b[37m\u001b[0m \u001b[1m4s\u001b[0m 3ms/step - accuracy: 0.9923 - loss: 0.0330 - val_accuracy: 0.9709 - val_loss: 0.0955\n",
            "Epoch 84/100\n",
            "\u001b[1m750/750\u001b[0m \u001b[32m━━━━━━━━━━━━━━━━━━━━\u001b[0m\u001b[37m\u001b[0m \u001b[1m3s\u001b[0m 3ms/step - accuracy: 0.9925 - loss: 0.0328 - val_accuracy: 0.9712 - val_loss: 0.0959\n",
            "Epoch 85/100\n",
            "\u001b[1m750/750\u001b[0m \u001b[32m━━━━━━━━━━━━━━━━━━━━\u001b[0m\u001b[37m\u001b[0m \u001b[1m7s\u001b[0m 5ms/step - accuracy: 0.9926 - loss: 0.0331 - val_accuracy: 0.9709 - val_loss: 0.0962\n",
            "Epoch 86/100\n",
            "\u001b[1m750/750\u001b[0m \u001b[32m━━━━━━━━━━━━━━━━━━━━\u001b[0m\u001b[37m\u001b[0m \u001b[1m4s\u001b[0m 4ms/step - accuracy: 0.9923 - loss: 0.0344 - val_accuracy: 0.9716 - val_loss: 0.0958\n",
            "Epoch 87/100\n",
            "\u001b[1m750/750\u001b[0m \u001b[32m━━━━━━━━━━━━━━━━━━━━\u001b[0m\u001b[37m\u001b[0m \u001b[1m2s\u001b[0m 3ms/step - accuracy: 0.9939 - loss: 0.0302 - val_accuracy: 0.9712 - val_loss: 0.0955\n",
            "Epoch 88/100\n",
            "\u001b[1m750/750\u001b[0m \u001b[32m━━━━━━━━━━━━━━━━━━━━\u001b[0m\u001b[37m\u001b[0m \u001b[1m3s\u001b[0m 3ms/step - accuracy: 0.9935 - loss: 0.0310 - val_accuracy: 0.9714 - val_loss: 0.0943\n",
            "Epoch 89/100\n",
            "\u001b[1m750/750\u001b[0m \u001b[32m━━━━━━━━━━━━━━━━━━━━\u001b[0m\u001b[37m\u001b[0m \u001b[1m4s\u001b[0m 5ms/step - accuracy: 0.9931 - loss: 0.0312 - val_accuracy: 0.9723 - val_loss: 0.0944\n",
            "Epoch 90/100\n",
            "\u001b[1m750/750\u001b[0m \u001b[32m━━━━━━━━━━━━━━━━━━━━\u001b[0m\u001b[37m\u001b[0m \u001b[1m3s\u001b[0m 3ms/step - accuracy: 0.9936 - loss: 0.0297 - val_accuracy: 0.9713 - val_loss: 0.0947\n",
            "Epoch 91/100\n",
            "\u001b[1m750/750\u001b[0m \u001b[32m━━━━━━━━━━━━━━━━━━━━\u001b[0m\u001b[37m\u001b[0m \u001b[1m2s\u001b[0m 3ms/step - accuracy: 0.9943 - loss: 0.0272 - val_accuracy: 0.9718 - val_loss: 0.0949\n",
            "Epoch 92/100\n",
            "\u001b[1m750/750\u001b[0m \u001b[32m━━━━━━━━━━━━━━━━━━━━\u001b[0m\u001b[37m\u001b[0m \u001b[1m3s\u001b[0m 4ms/step - accuracy: 0.9942 - loss: 0.0280 - val_accuracy: 0.9711 - val_loss: 0.0969\n",
            "Epoch 93/100\n",
            "\u001b[1m750/750\u001b[0m \u001b[32m━━━━━━━━━━━━━━━━━━━━\u001b[0m\u001b[37m\u001b[0m \u001b[1m6s\u001b[0m 5ms/step - accuracy: 0.9939 - loss: 0.0290 - val_accuracy: 0.9722 - val_loss: 0.0958\n",
            "Epoch 94/100\n",
            "\u001b[1m750/750\u001b[0m \u001b[32m━━━━━━━━━━━━━━━━━━━━\u001b[0m\u001b[37m\u001b[0m \u001b[1m4s\u001b[0m 4ms/step - accuracy: 0.9941 - loss: 0.0277 - val_accuracy: 0.9717 - val_loss: 0.0957\n",
            "Epoch 95/100\n",
            "\u001b[1m750/750\u001b[0m \u001b[32m━━━━━━━━━━━━━━━━━━━━\u001b[0m\u001b[37m\u001b[0m \u001b[1m3s\u001b[0m 4ms/step - accuracy: 0.9942 - loss: 0.0282 - val_accuracy: 0.9714 - val_loss: 0.0956\n",
            "Epoch 96/100\n",
            "\u001b[1m750/750\u001b[0m \u001b[32m━━━━━━━━━━━━━━━━━━━━\u001b[0m\u001b[37m\u001b[0m \u001b[1m6s\u001b[0m 5ms/step - accuracy: 0.9940 - loss: 0.0271 - val_accuracy: 0.9719 - val_loss: 0.0955\n",
            "Epoch 97/100\n",
            "\u001b[1m750/750\u001b[0m \u001b[32m━━━━━━━━━━━━━━━━━━━━\u001b[0m\u001b[37m\u001b[0m \u001b[1m3s\u001b[0m 4ms/step - accuracy: 0.9948 - loss: 0.0266 - val_accuracy: 0.9713 - val_loss: 0.0954\n",
            "Epoch 98/100\n",
            "\u001b[1m750/750\u001b[0m \u001b[32m━━━━━━━━━━━━━━━━━━━━\u001b[0m\u001b[37m\u001b[0m \u001b[1m5s\u001b[0m 3ms/step - accuracy: 0.9948 - loss: 0.0254 - val_accuracy: 0.9727 - val_loss: 0.0960\n",
            "Epoch 99/100\n",
            "\u001b[1m750/750\u001b[0m \u001b[32m━━━━━━━━━━━━━━━━━━━━\u001b[0m\u001b[37m\u001b[0m \u001b[1m4s\u001b[0m 6ms/step - accuracy: 0.9949 - loss: 0.0256 - val_accuracy: 0.9719 - val_loss: 0.0969\n",
            "Epoch 100/100\n",
            "\u001b[1m750/750\u001b[0m \u001b[32m━━━━━━━━━━━━━━━━━━━━\u001b[0m\u001b[37m\u001b[0m \u001b[1m3s\u001b[0m 4ms/step - accuracy: 0.9944 - loss: 0.0256 - val_accuracy: 0.9707 - val_loss: 0.0969\n"
          ]
        }
      ]
    },
    {
      "cell_type": "code",
      "source": [
        "import matplotlib.pyplot as plt\n",
        "%matplotlib inline\n",
        "# list all data in training\n",
        "print(training.history.keys())\n",
        "# summarize training for accuracy\n",
        "plt.plot(training.history['accuracy'])\n",
        "plt.plot(training.history['val_accuracy'])\n",
        "plt.title('model accuracy')\n",
        "plt.ylabel('accuracy')\n",
        "plt.xlabel('epoch')\n",
        "plt.legend(['train', 'test'], loc='upper left')\n",
        "plt.show()\n",
        "# summarize traning for loss\n",
        "plt.plot(training.history['loss'])\n",
        "plt.plot(training.history['val_loss'])\n",
        "plt.title('model loss')\n",
        "plt.ylabel('loss')\n",
        "plt.xlabel('epoch')\n",
        "plt.legend(['train', 'test'], loc='upper left')\n",
        "plt.show()"
      ],
      "metadata": {
        "colab": {
          "base_uri": "https://localhost:8080/",
          "height": 944
        },
        "id": "iKoGaKG96AiE",
        "outputId": "1cec8a34-fb36-4cdd-a37f-f76bba0c8f55"
      },
      "execution_count": 18,
      "outputs": [
        {
          "output_type": "stream",
          "name": "stdout",
          "text": [
            "dict_keys(['accuracy', 'loss', 'val_accuracy', 'val_loss'])\n"
          ]
        },
        {
          "output_type": "display_data",
          "data": {
            "text/plain": [
              "<Figure size 640x480 with 1 Axes>"
            ],
            "image/png": "[encoded data removed]"
          },
          "metadata": {}
        },
        {
          "output_type": "display_data",
          "data": {
            "text/plain": [
              "<Figure size 640x480 with 1 Axes>"
            ],
            "image/png": "[encoded data removed]"
          },
          "metadata": {}
        }
      ]
    },
    {
      "cell_type": "code",
      "source": [
        "#evaluate the model\n",
        "test_loss, test_acc = model_1.evaluate(X_test, Y_test)\n",
        "print('Test accuracy:', test_acc)"
      ],
      "metadata": {
        "colab": {
          "base_uri": "https://localhost:8080/"
        },
        "id": "cTcLnG3I6EUU",
        "outputId": "533a0fc4-be8e-42f7-81c3-91d4cbeb6ca9"
      },
      "execution_count": 19,
      "outputs": [
        {
          "output_type": "stream",
          "name": "stdout",
          "text": [
            "\u001b[1m313/313\u001b[0m \u001b[32m━━━━━━━━━━━━━━━━━━━━\u001b[0m\u001b[37m\u001b[0m \u001b[1m1s\u001b[0m 2ms/step - accuracy: 0.9690 - loss: 0.1019\n",
            "Test accuracy: 0.973800003528595\n"
          ]
        }
      ]
    },
    {
      "cell_type": "code",
      "source": [
        "model_1.summary"
      ],
      "metadata": {
        "colab": {
          "base_uri": "https://localhost:8080/",
          "height": 203
        },
        "id": "UeP6YnrL6QXY",
        "outputId": "7ec58caa-98ea-4f25-cfc4-76f7a1c1f22c"
      },
      "execution_count": 20,
      "outputs": [
        {
          "output_type": "execute_result",
          "data": {
            "text/plain": [
              "<bound method Model.summary of <Sequential name=sequential_1, built=True>>"
            ],
            "text/html": [
              "<div style=\"max-width:800px; border: 1px solid var(--colab-border-color);\"><style>\n",
              "      pre.function-repr-contents {\n",
              "        overflow-x: auto;\n",
              "        padding: 8px 12px;\n",
              "        max-height: 500px;\n",
              "      }\n",
              "\n",
              "      pre.function-repr-contents.function-repr-contents-collapsed {\n",
              "        cursor: pointer;\n",
              "        max-height: 100px;\n",
              "      }\n",
              "    </style>\n",
              "    <pre style=\"white-space: initial; background:\n",
              "         var(--colab-secondary-surface-color); padding: 8px 12px;\n",
              "         border-bottom: 1px solid var(--colab-border-color);\"><b>keras.src.models.model.Model.summary</b><br/>def summary(line_length=None, positions=None, print_fn=None, expand_nested=False, show_trainable=False, layer_range=None)</pre><pre class=\"function-repr-contents function-repr-contents-collapsed\" style=\"\"><a class=\"filepath\" style=\"display:none\" href=\"#\">/usr/local/lib/python3.11/dist-packages/keras/src/models/model.py</a>Prints a string summary of the network.\n",
              "\n",
              "Args:\n",
              "    line_length: Total length of printed lines\n",
              "        (e.g. set this to adapt the display to different\n",
              "        terminal window sizes).\n",
              "    positions: Relative or absolute positions of log elements\n",
              "        in each line. If not provided, becomes\n",
              "        `[0.3, 0.6, 0.70, 1.]`. Defaults to `None`.\n",
              "    print_fn: Print function to use. By default, prints to `stdout`.\n",
              "        If `stdout` doesn&#x27;t work in your environment, change to `print`.\n",
              "        It will be called on each line of the summary.\n",
              "        You can set it to a custom function\n",
              "        in order to capture the string summary.\n",
              "    expand_nested: Whether to expand the nested models.\n",
              "        Defaults to `False`.\n",
              "    show_trainable: Whether to show if a layer is trainable.\n",
              "        Defaults to `False`.\n",
              "    layer_range: a list or tuple of 2 strings,\n",
              "        which is the starting layer name and ending layer name\n",
              "        (both inclusive) indicating the range of layers to be printed\n",
              "        in summary. It also accepts regex patterns instead of exact\n",
              "        names. In this case, the start predicate will be\n",
              "        the first element that matches `layer_range[0]`\n",
              "        and the end predicate will be the last element\n",
              "        that matches `layer_range[1]`.\n",
              "        By default `None` considers all layers of the model.\n",
              "\n",
              "Raises:\n",
              "    ValueError: if `summary()` is called before the model is built.</pre>\n",
              "      <script>\n",
              "      if (google.colab.kernel.accessAllowed && google.colab.files && google.colab.files.view) {\n",
              "        for (const element of document.querySelectorAll('.filepath')) {\n",
              "          element.style.display = 'block'\n",
              "          element.onclick = (event) => {\n",
              "            event.preventDefault();\n",
              "            event.stopPropagation();\n",
              "            google.colab.files.view(element.textContent, 218);\n",
              "          };\n",
              "        }\n",
              "      }\n",
              "      for (const element of document.querySelectorAll('.function-repr-contents')) {\n",
              "        element.onclick = (event) => {\n",
              "          event.preventDefault();\n",
              "          event.stopPropagation();\n",
              "          element.classList.toggle('function-repr-contents-collapsed');\n",
              "        };\n",
              "      }\n",
              "      </script>\n",
              "      </div>"
            ]
          },
          "metadata": {},
          "execution_count": 20
        }
      ]
    },
    {
      "cell_type": "code",
      "source": [
        "model_1.weights"
      ],
      "metadata": {
        "colab": {
          "base_uri": "https://localhost:8080/"
        },
        "id": "jnJ2i7II6Sp8",
        "outputId": "2bcd0a61-e043-4b58-f3f2-961c94e2a585"
      },
      "execution_count": 21,
      "outputs": [
        {
          "output_type": "execute_result",
          "data": {
            "text/plain": [
              "[<Variable path=sequential_1/dense_layer/kernel, shape=(784, 64), dtype=float32, value=[[ 0.05046771  0.01072162  0.08165436 ...  0.08410712  0.07152893\n",
              "    0.07388719]\n",
              "  [ 0.00549769  0.05607217 -0.08332017 ... -0.03367508 -0.00081167\n",
              "   -0.05941087]\n",
              "  [ 0.03296544 -0.07389402  0.05905548 ...  0.06621902  0.05206387\n",
              "   -0.05118845]\n",
              "  ...\n",
              "  [ 0.04722946 -0.00418317  0.03470339 ...  0.00415551 -0.04049189\n",
              "   -0.03495602]\n",
              "  [ 0.06762756  0.01292125  0.06143863 ... -0.05502354  0.03648207\n",
              "   -0.01926173]\n",
              "  [ 0.07494121 -0.00351546 -0.07947998 ... -0.04355618 -0.07774803\n",
              "    0.01459765]]>,\n",
              " <Variable path=sequential_1/dense_layer/bias, shape=(64,), dtype=float32, value=[ 0.0644552  -0.00783808  0.06976809  0.04397971 -0.10944275  0.07164303\n",
              "   0.168004    0.0349251  -0.17002085  0.03619182  0.09106989 -0.05036093\n",
              "   0.1362267   0.05862536  0.14599374  0.09843816  0.10029291  0.06808364\n",
              "   0.19903894  0.01645387  0.06100504 -0.07532986 -0.06126785  0.04362626\n",
              "   0.00696884 -0.0715457   0.16336907 -0.07515348  0.12147254  0.0105742\n",
              "   0.01501074  0.14780493 -0.06482511 -0.01767959  0.03056878 -0.04556075\n",
              "   0.02984224  0.04612968  0.01732206 -0.00586504  0.02158724  0.07293064\n",
              "   0.0569886   0.06581977  0.1387474   0.11613007  0.0482033   0.12049907\n",
              "   0.06757881  0.04273751  0.2080037  -0.01823528 -0.09726902  0.08115932\n",
              "   0.07185884  0.12475605 -0.05357852 -0.04267441  0.09222362  0.0032975\n",
              "   0.07182388 -0.03487426  0.19565898 -0.11121825]>,\n",
              " <Variable path=sequential_1/dense_layer_2/kernel, shape=(64, 64), dtype=float32, value=[[ 5.9162721e-02  7.7358969e-03 -2.3957053e-02 ... -1.4906481e-01\n",
              "    3.8199610e-01 -3.8224086e-02]\n",
              "  [-7.6571830e-02 -1.3941275e-02 -2.1210667e-01 ... -1.7516480e-01\n",
              "   -1.4339244e-02  6.6646874e-02]\n",
              "  [-6.6484444e-02 -1.3704547e-01 -3.4844974e-01 ... -2.5914985e-01\n",
              "    5.1929575e-01  9.0788312e-02]\n",
              "  ...\n",
              "  [ 1.2531866e-01 -2.7558072e-02 -4.0531027e-04 ... -1.1300643e-02\n",
              "    5.7803553e-02  3.1531027e-01]\n",
              "  [ 2.2305407e-02 -2.6392465e-02  1.1435148e-01 ... -1.4725916e-01\n",
              "    2.1327867e-01  1.4025806e-02]\n",
              "  [-1.4555980e-01  7.5623053e-03 -1.6514771e-01 ...  2.5763538e-01\n",
              "    4.1351882e-01 -3.7358212e-01]]>,\n",
              " <Variable path=sequential_1/dense_layer_2/bias, shape=(64,), dtype=float32, value=[ 3.48577960e-05  1.55907542e-01  4.35483158e-02 -1.91212643e-03\n",
              "  -5.39190359e-02  6.87034195e-03 -2.61764005e-02  1.29406527e-01\n",
              "   8.89109354e-03  1.82254910e-02 -1.34577677e-02  3.22086103e-02\n",
              "   3.16202082e-02  5.84068801e-03  3.60212699e-02 -1.69377830e-02\n",
              "   4.25754301e-03 -3.98267340e-03  1.12989262e-01 -2.57311631e-02\n",
              "  -2.65521202e-02 -5.98214082e-02  2.46273726e-02 -1.75641589e-02\n",
              "   2.91139390e-02  1.15186768e-02 -2.59494912e-02  6.70629442e-02\n",
              "   8.74435008e-02 -2.22239140e-02 -3.56303900e-02  2.55465433e-02\n",
              "  -4.59522614e-03  4.96910438e-02  1.12166908e-02  2.51972843e-02\n",
              "  -5.19262366e-02  1.80218723e-02  1.98769551e-02  7.12516755e-02\n",
              "  -1.09468482e-03 -5.62564842e-02  4.39143181e-02 -9.52590108e-02\n",
              "   2.71669053e-03  5.06718457e-02  5.19152135e-02  9.90801305e-02\n",
              "  -3.48842749e-03  6.40295595e-02  4.33273651e-02  1.10680878e-01\n",
              "  -5.16509078e-03 -3.83169577e-02 -4.98040533e-03  7.55308494e-02\n",
              "  -7.46227941e-03  1.23710990e-01  4.43553627e-02  1.10446915e-01\n",
              "   3.42183597e-02  2.13565547e-02 -4.90706116e-02  1.62713885e-01]>,\n",
              " <Variable path=sequential_1/dense_layer_3/kernel, shape=(64, 10), dtype=float32, value=[[-1.77702188e-01  5.57805225e-03  2.01345608e-01  2.81240523e-01\n",
              "    2.63490409e-01  1.62224039e-01 -2.16321915e-01 -1.43596545e-01\n",
              "   -2.63816956e-02 -1.19560352e-02]\n",
              "  [-1.08249122e-02  1.87392011e-01 -7.33548641e-01  6.67993277e-02\n",
              "   -1.68122098e-01  2.01703995e-01 -2.34091952e-01 -2.25194111e-01\n",
              "    2.81867564e-01  1.97853819e-01]\n",
              "  [-1.55641347e-01 -2.63259143e-01 -1.23079389e-01  6.76602662e-01\n",
              "   -3.40632200e-01  2.77499437e-01 -5.14625430e-01 -2.73744106e-01\n",
              "    5.07154226e-01  3.19088697e-01]\n",
              "  [ 2.06705019e-01  2.44715869e-01  6.54323176e-02  1.56248048e-01\n",
              "   -1.58502743e-01  1.22701421e-01 -5.40390350e-02  6.29521310e-02\n",
              "   -2.49386415e-01 -2.46748105e-01]\n",
              "  [-1.61514711e-03  2.75422670e-02  4.76365715e-01  6.35291487e-02\n",
              "    4.50920910e-01 -7.05124617e-01 -1.72213122e-01  7.24820435e-01\n",
              "   -7.13211000e-01 -2.93384224e-01]\n",
              "  [ 1.86359920e-02 -1.94722012e-01  1.05554305e-01 -1.33858591e-01\n",
              "   -6.18116334e-02  2.84125239e-01 -1.03758730e-01  7.64183700e-02\n",
              "   -4.49322611e-02 -8.01101103e-02]\n",
              "  [ 3.10642838e-01 -2.26497442e-01 -2.08339229e-01 -3.99515927e-02\n",
              "    8.11970793e-03 -2.60951489e-01 -2.10287586e-01 -7.82380849e-02\n",
              "   -2.25991830e-01 -1.29282326e-01]\n",
              "  [-2.20160618e-01  1.42853409e-01 -3.79882187e-01  5.24689555e-01\n",
              "   -9.19222832e-02  4.85121071e-01  2.76909381e-01 -6.77737713e-01\n",
              "    5.68464696e-01 -3.50155860e-01]\n",
              "  [-5.31037338e-02  8.55060120e-04  2.00564086e-01  1.74219668e-01\n",
              "    2.20892996e-01 -2.67027646e-01  3.22327137e-01 -1.55716133e-03\n",
              "   -8.87056217e-02 -5.67007303e-01]\n",
              "  [-3.67362112e-01 -1.03036001e-01  2.54018188e-01  4.77596343e-01\n",
              "    5.22364140e-01 -3.12289238e-01 -7.23487139e-01  4.02627647e-01\n",
              "    4.03795123e-01 -2.26884663e-01]\n",
              "  [-2.56900907e-01  1.08188748e-01  5.40284038e-01  1.50850460e-01\n",
              "    2.87722766e-01 -4.38002259e-01  1.12293653e-01 -1.46830335e-01\n",
              "   -2.37464488e-01 -7.92394221e-01]\n",
              "  [ 1.10429466e-01  4.00339335e-01  3.23368907e-01  5.44351637e-02\n",
              "   -3.35699350e-01 -3.36392745e-02 -5.72990060e-01  6.09295607e-01\n",
              "   -4.12535191e-01  2.35377565e-01]\n",
              "  [-1.59665957e-01 -8.92285928e-02  1.35232300e-01  1.56277657e-01\n",
              "    2.17315659e-01  1.05736367e-01 -2.18211770e-01 -2.70355940e-01\n",
              "    2.14704107e-02  3.24140564e-02]\n",
              "  [ 2.88370013e-01  3.49431813e-01  8.42688307e-02 -2.88811296e-01\n",
              "    4.69018161e-01 -6.75683081e-01  7.63838366e-02  1.59970522e-01\n",
              "   -1.26114428e-01  3.20739090e-01]\n",
              "  [-2.29301661e-01 -1.58861727e-01 -3.32625955e-01  3.47108573e-01\n",
              "    4.78812486e-01  3.99317861e-01  5.49077876e-02 -4.95452583e-02\n",
              "   -7.80256689e-01 -1.04938680e-02]\n",
              "  [ 2.28816748e-01  2.70277858e-01 -1.41180620e-01  6.49427772e-02\n",
              "    3.76012847e-02  1.79548666e-01  1.75672829e-01 -2.57375464e-02\n",
              "    9.72226337e-02  1.98172241e-01]\n",
              "  [ 5.72706938e-01 -3.06811258e-02  2.78873295e-01 -4.06172663e-01\n",
              "    1.99674755e-01 -5.03822684e-01  1.25462875e-01  1.22428082e-01\n",
              "    3.42606366e-01 -4.39067222e-02]\n",
              "  [-1.98146440e-02  2.54035950e-01  1.27160817e-01 -7.99668282e-02\n",
              "   -4.13114160e-01 -1.07928999e-01  1.14832193e-01  2.07045048e-01\n",
              "    3.39388512e-02  1.54033616e-01]\n",
              "  [-6.23738825e-01  1.17858641e-01  7.11440742e-02 -5.42152345e-01\n",
              "    4.65829521e-01  6.87381923e-02 -1.21417046e-02  1.59518853e-01\n",
              "    1.71723664e-01 -9.86591876e-02]\n",
              "  [ 3.19830060e-01  2.46471435e-01  1.21702351e-01 -2.19319701e-01\n",
              "   -7.83568621e-02 -8.44536424e-01 -6.25840202e-02  6.30103230e-01\n",
              "   -4.11860943e-02  9.38472226e-02]\n",
              "  [-8.82874355e-02  1.02572888e-01  5.08510113e-01  5.13196886e-01\n",
              "    2.47648701e-01 -5.64731836e-01 -3.19194913e-01  5.25031805e-01\n",
              "   -6.26066387e-01 -5.53727567e-01]\n",
              "  [ 2.10801363e-01 -5.90066552e-01  4.09403116e-01 -1.03687178e-02\n",
              "   -2.32063383e-01 -4.02684480e-01 -1.64432392e-01 -3.62553000e-01\n",
              "    5.07764995e-01  2.49449775e-01]\n",
              "  [-2.20644325e-01 -5.50390258e-02 -6.00327432e-01 -4.22254115e-01\n",
              "    5.15980661e-01  1.85476374e-02 -8.25221166e-02  1.10751227e-01\n",
              "    4.91299361e-01  8.72456282e-02]\n",
              "  [ 2.40430847e-01 -2.64296293e-01 -2.73290016e-02 -1.20595448e-01\n",
              "    7.85565749e-02  3.67758498e-02 -5.12986863e-03 -1.90635026e-01\n",
              "   -1.57855645e-01 -1.00782029e-01]\n",
              "  [ 2.70922750e-01  4.75985527e-01 -1.52821347e-01 -4.96615320e-01\n",
              "    7.50941932e-01 -6.77148998e-01 -1.06799863e-01  1.87573060e-01\n",
              "   -1.94725096e-01  8.82930681e-02]\n",
              "  [-8.88731927e-02 -6.23232067e-01 -3.52264255e-01  2.35516414e-01\n",
              "   -5.84871806e-02 -6.88731894e-02 -5.17169535e-01  1.53710768e-01\n",
              "    4.33948785e-01  4.84607011e-01]\n",
              "  [ 2.36089095e-01 -1.44221365e-01  3.42729241e-01 -1.71549380e-01\n",
              "    4.21829164e-01  1.96758196e-01  2.19460070e-01 -5.25305271e-01\n",
              "   -7.70644471e-02  5.74639320e-01]\n",
              "  [ 1.85547024e-01 -3.31783742e-02 -1.86467037e-01 -1.46567941e-01\n",
              "    1.97091326e-01 -1.03780581e-02 -5.45343220e-01 -4.67686683e-01\n",
              "    5.81394792e-01 -1.14814676e-01]\n",
              "  [-1.76728040e-01  1.13459617e-01 -4.69655931e-01  1.94666281e-01\n",
              "   -3.67560685e-01  6.36539340e-01 -2.54263133e-01  1.47968503e-02\n",
              "    1.91505179e-01  4.32869881e-01]\n",
              "  [-1.26239434e-01 -2.11365119e-01  1.04668647e-01  3.54815602e-01\n",
              "   -5.62265933e-01  4.90532130e-01 -5.43251932e-01 -2.90515870e-01\n",
              "   -1.67518482e-01  4.09455687e-01]\n",
              "  [-2.90130600e-02 -4.92401212e-01  3.65833759e-01  3.13344389e-01\n",
              "   -3.51054937e-01 -2.58650899e-01  3.54344964e-01 -4.57825154e-01\n",
              "    4.99282293e-02  3.23068112e-01]\n",
              "  [ 3.56368035e-01 -2.34778792e-01 -1.54628068e-01 -1.65113568e-01\n",
              "    2.52749413e-01  3.97842944e-01  2.60157198e-01 -3.61593783e-01\n",
              "    2.15314388e-01 -4.09346759e-01]\n",
              "  [ 7.24177137e-02 -2.07563758e-01  1.63820073e-01 -1.01728879e-01\n",
              "    8.27460270e-03 -3.47259164e-01  7.43764862e-02 -2.03485608e-01\n",
              "   -1.28107056e-01  9.89950895e-02]\n",
              "  [-2.01658785e-01  4.66737151e-01  6.43202424e-01 -4.26278114e-01\n",
              "    3.62114348e-02  3.08716089e-01  1.57852590e-01  4.11280423e-01\n",
              "    2.66454339e-01 -7.41757393e-01]\n",
              "  [ 5.33092201e-01  4.82685357e-01 -9.19155180e-02 -5.71818314e-02\n",
              "    2.74995059e-01 -6.11950994e-01 -1.66816220e-01  1.70237452e-01\n",
              "    1.80355281e-01 -3.57648730e-01]\n",
              "  [-2.52416462e-01  1.20252237e-01 -4.83563244e-01  1.51165962e-01\n",
              "   -9.04011205e-02 -4.60181057e-01  6.44413173e-01 -3.58635694e-01\n",
              "    4.88744378e-01 -3.37592334e-01]\n",
              "  [-4.77324128e-01  6.21800303e-01 -8.85775909e-02  5.11474907e-01\n",
              "    2.98765581e-02  9.72888589e-01 -4.89839643e-01 -3.56071889e-01\n",
              "   -5.39540768e-01  6.30676746e-01]\n",
              "  [ 3.86484355e-01  1.66856676e-01  6.81373596e-01 -2.54884869e-01\n",
              "    3.56796265e-01 -3.29189539e-01  2.95596272e-01 -4.02543187e-01\n",
              "    3.98127675e-01 -3.09901714e-01]\n",
              "  [-4.78698552e-01 -2.47408688e-01  1.37184039e-01  1.84575021e-01\n",
              "   -3.27488258e-02  3.75498265e-01  6.08973205e-02 -4.63813007e-01\n",
              "   -2.02185437e-02  4.86181229e-01]\n",
              "  [-1.47859544e-01  4.97201473e-01  3.45572174e-01  3.32617611e-01\n",
              "   -1.60431638e-01 -4.60327923e-01  2.81697392e-01  5.40833808e-02\n",
              "    2.33669281e-01 -6.24762297e-01]\n",
              "  [ 3.98501195e-02 -2.42225453e-01  3.42019051e-01 -8.43302347e-04\n",
              "   -6.70063123e-02 -1.09395660e-01 -1.05376944e-01 -4.71410267e-02\n",
              "    1.72656551e-01  1.34529755e-01]\n",
              "  [ 6.23288989e-01  2.56189167e-01  3.87595713e-01 -3.18161488e-01\n",
              "   -1.55134857e-01 -2.01594204e-01 -1.03283986e-01 -3.58542591e-01\n",
              "   -7.95361102e-01  3.06704342e-01]\n",
              "  [ 1.32133827e-01 -6.90506548e-02 -7.36246884e-01 -8.88015866e-01\n",
              "    7.11085677e-01 -1.80281535e-01  4.03974801e-01 -6.34182617e-02\n",
              "   -1.84016272e-01  6.58607423e-01]\n",
              "  [-3.16632748e-01 -7.59147927e-02  3.28643709e-01  3.34459662e-01\n",
              "    2.20600367e-01  1.83185264e-01 -2.11746529e-01  5.01149476e-01\n",
              "   -2.62488008e-01 -6.78816795e-01]\n",
              "  [-3.22394937e-01 -1.72598407e-01  3.55416685e-01  9.78062227e-02\n",
              "    1.41628593e-01 -9.48878825e-02 -1.21106453e-01 -1.93993464e-01\n",
              "    7.30945319e-02  1.09285064e-01]\n",
              "  [ 5.21668792e-01 -6.02132738e-01  2.42346942e-01 -4.61992472e-01\n",
              "   -7.88431108e-01  1.07584633e-01  3.09527218e-01  1.82194754e-01\n",
              "    3.61920059e-01  7.62444258e-01]\n",
              "  [-5.39986305e-02 -8.75780135e-02  5.36391497e-01 -4.12843525e-01\n",
              "    2.03575566e-01  2.28534922e-01 -3.40153813e-01 -1.33641064e-01\n",
              "   -3.51046175e-01  2.05897346e-01]\n",
              "  [-1.82440326e-01  4.25895661e-01 -7.66747177e-01  5.04598320e-01\n",
              "    1.15224078e-01 -8.55932832e-02 -1.32408619e-01 -4.75615412e-01\n",
              "   -2.47188449e-01  1.70325026e-01]\n",
              "  [ 1.50354579e-01  3.37614417e-01  1.03961878e-01 -2.00405475e-02\n",
              "    5.92076629e-02 -1.78288773e-01  2.39631817e-01  1.24395505e-01\n",
              "   -1.08714417e-01 -2.23858967e-01]\n",
              "  [ 3.24022949e-01  4.05560285e-01 -3.94754529e-01 -1.26516685e-01\n",
              "   -4.28128034e-01  2.31484100e-02 -3.73161733e-01 -2.12494522e-01\n",
              "   -1.83726996e-01  4.45773154e-01]\n",
              "  [ 5.16875207e-01 -2.25750074e-01  1.84526995e-01  6.31894246e-02\n",
              "   -6.89523220e-01  6.10514820e-01 -3.15856516e-01  6.11824751e-01\n",
              "   -4.76777881e-01 -2.06265748e-01]\n",
              "  [-2.76904315e-01 -3.37129772e-01 -2.60063440e-01 -7.22165227e-01\n",
              "    1.39166728e-01  5.56622028e-01  3.11969817e-01  5.78260362e-01\n",
              "   -4.64894533e-01  1.65797710e-01]\n",
              "  [-3.70509893e-01 -5.29966235e-01 -1.70934007e-01  4.65223461e-01\n",
              "   -3.23376805e-01  5.54202259e-01 -1.68709323e-01  3.80850077e-01\n",
              "    8.85481238e-02  1.41574070e-01]\n",
              "  [-2.20030756e-03  1.19652808e-01  2.66903877e-01 -4.54028975e-03\n",
              "   -1.83206499e-01 -7.16191009e-02  6.72167420e-01  3.91838133e-01\n",
              "   -4.65088665e-01 -4.71330911e-01]\n",
              "  [-3.56875151e-01  8.26952532e-02 -2.83651382e-01  2.39351615e-01\n",
              "   -3.14518481e-01 -2.65137970e-01 -4.30267423e-01  6.12396896e-01\n",
              "   -3.77574056e-01  3.16042930e-01]\n",
              "  [-2.44048521e-01 -1.20786719e-01  4.18188840e-01  7.17184484e-01\n",
              "   -1.43812224e-01  4.03956950e-01 -5.92817605e-01 -5.88613272e-01\n",
              "    8.20101798e-02  4.59891856e-01]\n",
              "  [-2.18361676e-01  6.12182975e-01  2.96871215e-01  9.08331871e-01\n",
              "   -4.67615202e-02 -4.02474999e-01 -4.32237744e-01  2.90737063e-01\n",
              "   -6.62677139e-02 -4.64601249e-01]\n",
              "  [ 6.14025109e-02  7.42802694e-02 -5.74777782e-01 -3.04158032e-01\n",
              "    4.52562600e-01  8.22087884e-01  7.22387135e-01 -1.96940452e-01\n",
              "   -2.12300763e-01 -6.87577546e-01]\n",
              "  [ 4.98391241e-01  2.23183900e-01 -3.54582250e-01  3.56587946e-01\n",
              "   -3.83965999e-01  4.77308929e-01  5.23415089e-01 -3.58237326e-01\n",
              "   -6.11698985e-01 -2.45213702e-01]\n",
              "  [-2.64624387e-01 -5.80750406e-01  2.57627442e-02 -3.04595858e-01\n",
              "   -8.02170515e-01  6.94412231e-01  4.01046008e-01  3.65422852e-02\n",
              "    8.55831444e-01 -6.77732050e-01]\n",
              "  [-4.00918752e-01  6.12952590e-01  3.87160629e-01  1.60431728e-01\n",
              "   -5.40055275e-01 -2.72597730e-01 -3.43951523e-01 -4.22443356e-03\n",
              "    4.92615044e-01 -2.13345528e-01]\n",
              "  [ 2.53675371e-01  1.68142363e-01 -3.21843028e-01 -9.85564739e-02\n",
              "    3.92557204e-01 -4.82521057e-01 -8.00142512e-02 -3.87259722e-01\n",
              "    2.38254547e-01  6.54473662e-01]\n",
              "  [ 6.72502756e-01  2.94278204e-01 -4.66516584e-01  4.08462524e-01\n",
              "   -4.32358652e-01 -3.88697535e-01 -6.93065766e-03  2.05647394e-01\n",
              "   -4.36877549e-01 -4.32390481e-01]\n",
              "  [-3.88441503e-01  6.32388413e-01  6.50520563e-01 -8.64000916e-01\n",
              "   -2.39118218e-01  3.17374289e-01  1.08373813e-01  3.91241282e-01\n",
              "   -4.33253497e-01 -9.55941156e-02]]>,\n",
              " <Variable path=sequential_1/dense_layer_3/bias, shape=(10,), dtype=float32, value=[-0.12069276  0.19242671 -0.03690286 -0.1938693  -0.0163399   0.22945827\n",
              "  -0.05564905  0.05586714 -0.00820262 -0.0460992 ]>]"
            ]
          },
          "metadata": {},
          "execution_count": 21
        }
      ]
    },
    {
      "cell_type": "code",
      "source": [
        "model_1.get_config()"
      ],
      "metadata": {
        "colab": {
          "base_uri": "https://localhost:8080/"
        },
        "id": "Mj8grhdG6c80",
        "outputId": "d8a56fe7-07a8-4957-d3ed-6c745f5a21ca"
      },
      "execution_count": 22,
      "outputs": [
        {
          "output_type": "execute_result",
          "data": {
            "text/plain": [
              "{'name': 'sequential_1',\n",
              " 'trainable': True,\n",
              " 'dtype': {'module': 'keras',\n",
              "  'class_name': 'DTypePolicy',\n",
              "  'config': {'name': 'float32'},\n",
              "  'registered_name': None},\n",
              " 'layers': [{'module': 'keras.layers',\n",
              "   'class_name': 'InputLayer',\n",
              "   'config': {'batch_shape': (None, 784),\n",
              "    'dtype': 'float32',\n",
              "    'sparse': False,\n",
              "    'name': 'input_layer_1'},\n",
              "   'registered_name': None},\n",
              "  {'module': 'keras.layers',\n",
              "   'class_name': 'Dense',\n",
              "   'config': {'name': 'dense_layer',\n",
              "    'trainable': True,\n",
              "    'dtype': {'module': 'keras',\n",
              "     'class_name': 'DTypePolicy',\n",
              "     'config': {'name': 'float32'},\n",
              "     'registered_name': None},\n",
              "    'units': 64,\n",
              "    'activation': 'relu',\n",
              "    'use_bias': True,\n",
              "    'kernel_initializer': {'module': 'keras.initializers',\n",
              "     'class_name': 'GlorotUniform',\n",
              "     'config': {'seed': None},\n",
              "     'registered_name': None},\n",
              "    'bias_initializer': {'module': 'keras.initializers',\n",
              "     'class_name': 'Zeros',\n",
              "     'config': {},\n",
              "     'registered_name': None},\n",
              "    'kernel_regularizer': None,\n",
              "    'bias_regularizer': None,\n",
              "    'kernel_constraint': None,\n",
              "    'bias_constraint': None},\n",
              "   'registered_name': None,\n",
              "   'build_config': {'input_shape': (None, 784)}},\n",
              "  {'module': 'keras.layers',\n",
              "   'class_name': 'Dense',\n",
              "   'config': {'name': 'dense_layer_2',\n",
              "    'trainable': True,\n",
              "    'dtype': {'module': 'keras',\n",
              "     'class_name': 'DTypePolicy',\n",
              "     'config': {'name': 'float32'},\n",
              "     'registered_name': None},\n",
              "    'units': 64,\n",
              "    'activation': 'relu',\n",
              "    'use_bias': True,\n",
              "    'kernel_initializer': {'module': 'keras.initializers',\n",
              "     'class_name': 'GlorotUniform',\n",
              "     'config': {'seed': None},\n",
              "     'registered_name': None},\n",
              "    'bias_initializer': {'module': 'keras.initializers',\n",
              "     'class_name': 'Zeros',\n",
              "     'config': {},\n",
              "     'registered_name': None},\n",
              "    'kernel_regularizer': None,\n",
              "    'bias_regularizer': None,\n",
              "    'kernel_constraint': None,\n",
              "    'bias_constraint': None},\n",
              "   'registered_name': None,\n",
              "   'build_config': {'input_shape': (None, 64)}},\n",
              "  {'module': 'keras.layers',\n",
              "   'class_name': 'Dense',\n",
              "   'config': {'name': 'dense_layer_3',\n",
              "    'trainable': True,\n",
              "    'dtype': {'module': 'keras',\n",
              "     'class_name': 'DTypePolicy',\n",
              "     'config': {'name': 'float32'},\n",
              "     'registered_name': None},\n",
              "    'units': 10,\n",
              "    'activation': 'softmax',\n",
              "    'use_bias': True,\n",
              "    'kernel_initializer': {'module': 'keras.initializers',\n",
              "     'class_name': 'GlorotUniform',\n",
              "     'config': {'seed': None},\n",
              "     'registered_name': None},\n",
              "    'bias_initializer': {'module': 'keras.initializers',\n",
              "     'class_name': 'Zeros',\n",
              "     'config': {},\n",
              "     'registered_name': None},\n",
              "    'kernel_regularizer': None,\n",
              "    'bias_regularizer': None,\n",
              "    'kernel_constraint': None,\n",
              "    'bias_constraint': None},\n",
              "   'registered_name': None,\n",
              "   'build_config': {'input_shape': (None, 64)}}],\n",
              " 'build_input_shape': (None, 784)}"
            ]
          },
          "metadata": {},
          "execution_count": 22
        }
      ]
    },
    {
      "cell_type": "markdown",
      "source": [
        "#Drop out to increase the efficiency Overfitting"
      ],
      "metadata": {
        "id": "AHQTMgTQ6eHU"
      }
    },
    {
      "cell_type": "code",
      "source": [
        "from tensorflow.keras.layers import Dropout\n",
        "\n",
        "#Most common type of model is a stack of layers\n",
        "model_2 = tf.keras.Sequential()\n",
        "N_hidden = 128\n",
        "# Adds a densely-connected layer with 64 units to the model:\n",
        "model_2.add(Dense(N_hidden, name='dense_layer', input_shape=(784,), activation = 'relu'))\n",
        "# Now the model will take as input arrays of shape (*, 784)# and output arrays of shape (*, 64)\n",
        "model_2.add(Dropout(0.3))\n",
        "# Adding another dense layer:\n",
        "model_2.add(Dense(N_hidden, name='dense_layer_2', activation='relu'))\n",
        "model_2.add(Dropout(0.3))\n",
        "\n",
        "# Add an output layer with 10 output units (10 different classes):\n",
        "model_2.add(Dense(10, name='dense_layer_3', activation = 'softmax'))"
      ],
      "metadata": {
        "id": "xP8gke3z6u8U"
      },
      "execution_count": 23,
      "outputs": []
    },
    {
      "cell_type": "code",
      "source": [
        "# Compiling the model.\n",
        "model_2.compile(optimizer='SGD',\n",
        "              loss='categorical_crossentropy',\n",
        "              metrics=['accuracy'])"
      ],
      "metadata": {
        "id": "nr0wvHli7JgO"
      },
      "execution_count": 24,
      "outputs": []
    },
    {
      "cell_type": "code",
      "source": [
        "# Training the model.\n",
        "training = model_2.fit(X_train, Y_train, batch_size=64, epochs=50, validation_split=0.2)"
      ],
      "metadata": {
        "colab": {
          "base_uri": "https://localhost:8080/"
        },
        "id": "XGvsKOaZ7O8e",
        "outputId": "98e30ebb-fecf-432d-c6b5-5183adab8603"
      },
      "execution_count": 25,
      "outputs": [
        {
          "output_type": "stream",
          "name": "stdout",
          "text": [
            "Epoch 1/50\n",
            "\u001b[1m750/750\u001b[0m \u001b[32m━━━━━━━━━━━━━━━━━━━━\u001b[0m\u001b[37m\u001b[0m \u001b[1m6s\u001b[0m 7ms/step - accuracy: 0.3922 - loss: 1.7971 - val_accuracy: 0.8648 - val_loss: 0.5554\n",
            "Epoch 2/50\n",
            "\u001b[1m750/750\u001b[0m \u001b[32m━━━━━━━━━━━━━━━━━━━━\u001b[0m\u001b[37m\u001b[0m \u001b[1m8s\u001b[0m 5ms/step - accuracy: 0.7844 - loss: 0.7122 - val_accuracy: 0.8995 - val_loss: 0.3728\n",
            "Epoch 3/50\n",
            "\u001b[1m750/750\u001b[0m \u001b[32m━━━━━━━━━━━━━━━━━━━━\u001b[0m\u001b[37m\u001b[0m \u001b[1m5s\u001b[0m 6ms/step - accuracy: 0.8383 - loss: 0.5356 - val_accuracy: 0.9097 - val_loss: 0.3142\n",
            "Epoch 4/50\n",
            "\u001b[1m750/750\u001b[0m \u001b[32m━━━━━━━━━━━━━━━━━━━━\u001b[0m\u001b[37m\u001b[0m \u001b[1m3s\u001b[0m 4ms/step - accuracy: 0.8623 - loss: 0.4612 - val_accuracy: 0.9171 - val_loss: 0.2809\n",
            "Epoch 5/50\n",
            "\u001b[1m750/750\u001b[0m \u001b[32m━━━━━━━━━━━━━━━━━━━━\u001b[0m\u001b[37m\u001b[0m \u001b[1m4s\u001b[0m 5ms/step - accuracy: 0.8807 - loss: 0.4068 - val_accuracy: 0.9232 - val_loss: 0.2570\n",
            "Epoch 6/50\n",
            "\u001b[1m750/750\u001b[0m \u001b[32m━━━━━━━━━━━━━━━━━━━━\u001b[0m\u001b[37m\u001b[0m \u001b[1m6s\u001b[0m 6ms/step - accuracy: 0.8891 - loss: 0.3809 - val_accuracy: 0.9283 - val_loss: 0.2405\n",
            "Epoch 7/50\n",
            "\u001b[1m750/750\u001b[0m \u001b[32m━━━━━━━━━━━━━━━━━━━━\u001b[0m\u001b[37m\u001b[0m \u001b[1m4s\u001b[0m 5ms/step - accuracy: 0.8932 - loss: 0.3613 - val_accuracy: 0.9333 - val_loss: 0.2271\n",
            "Epoch 8/50\n",
            "\u001b[1m750/750\u001b[0m \u001b[32m━━━━━━━━━━━━━━━━━━━━\u001b[0m\u001b[37m\u001b[0m \u001b[1m3s\u001b[0m 4ms/step - accuracy: 0.9032 - loss: 0.3273 - val_accuracy: 0.9366 - val_loss: 0.2142\n",
            "Epoch 9/50\n",
            "\u001b[1m750/750\u001b[0m \u001b[32m━━━━━━━━━━━━━━━━━━━━\u001b[0m\u001b[37m\u001b[0m \u001b[1m4s\u001b[0m 6ms/step - accuracy: 0.9080 - loss: 0.3174 - val_accuracy: 0.9407 - val_loss: 0.2036\n",
            "Epoch 10/50\n",
            "\u001b[1m750/750\u001b[0m \u001b[32m━━━━━━━━━━━━━━━━━━━━\u001b[0m\u001b[37m\u001b[0m \u001b[1m4s\u001b[0m 5ms/step - accuracy: 0.9104 - loss: 0.3012 - val_accuracy: 0.9443 - val_loss: 0.1949\n",
            "Epoch 11/50\n",
            "\u001b[1m750/750\u001b[0m \u001b[32m━━━━━━━━━━━━━━━━━━━━\u001b[0m\u001b[37m\u001b[0m \u001b[1m5s\u001b[0m 5ms/step - accuracy: 0.9174 - loss: 0.2817 - val_accuracy: 0.9456 - val_loss: 0.1865\n",
            "Epoch 12/50\n",
            "\u001b[1m750/750\u001b[0m \u001b[32m━━━━━━━━━━━━━━━━━━━━\u001b[0m\u001b[37m\u001b[0m \u001b[1m6s\u001b[0m 6ms/step - accuracy: 0.9184 - loss: 0.2742 - val_accuracy: 0.9477 - val_loss: 0.1800\n",
            "Epoch 13/50\n",
            "\u001b[1m750/750\u001b[0m \u001b[32m━━━━━━━━━━━━━━━━━━━━\u001b[0m\u001b[37m\u001b[0m \u001b[1m4s\u001b[0m 5ms/step - accuracy: 0.9221 - loss: 0.2646 - val_accuracy: 0.9505 - val_loss: 0.1722\n",
            "Epoch 14/50\n",
            "\u001b[1m750/750\u001b[0m \u001b[32m━━━━━━━━━━━━━━━━━━━━\u001b[0m\u001b[37m\u001b[0m \u001b[1m4s\u001b[0m 5ms/step - accuracy: 0.9256 - loss: 0.2500 - val_accuracy: 0.9520 - val_loss: 0.1679\n",
            "Epoch 15/50\n",
            "\u001b[1m750/750\u001b[0m \u001b[32m━━━━━━━━━━━━━━━━━━━━\u001b[0m\u001b[37m\u001b[0m \u001b[1m5s\u001b[0m 5ms/step - accuracy: 0.9290 - loss: 0.2396 - val_accuracy: 0.9531 - val_loss: 0.1623\n",
            "Epoch 16/50\n",
            "\u001b[1m750/750\u001b[0m \u001b[32m━━━━━━━━━━━━━━━━━━━━\u001b[0m\u001b[37m\u001b[0m \u001b[1m4s\u001b[0m 5ms/step - accuracy: 0.9337 - loss: 0.2331 - val_accuracy: 0.9541 - val_loss: 0.1582\n",
            "Epoch 17/50\n",
            "\u001b[1m750/750\u001b[0m \u001b[32m━━━━━━━━━━━━━━━━━━━━\u001b[0m\u001b[37m\u001b[0m \u001b[1m5s\u001b[0m 6ms/step - accuracy: 0.9340 - loss: 0.2275 - val_accuracy: 0.9554 - val_loss: 0.1541\n",
            "Epoch 18/50\n",
            "\u001b[1m750/750\u001b[0m \u001b[32m━━━━━━━━━━━━━━━━━━━━\u001b[0m\u001b[37m\u001b[0m \u001b[1m4s\u001b[0m 5ms/step - accuracy: 0.9352 - loss: 0.2166 - val_accuracy: 0.9559 - val_loss: 0.1501\n",
            "Epoch 19/50\n",
            "\u001b[1m750/750\u001b[0m \u001b[32m━━━━━━━━━━━━━━━━━━━━\u001b[0m\u001b[37m\u001b[0m \u001b[1m4s\u001b[0m 5ms/step - accuracy: 0.9362 - loss: 0.2161 - val_accuracy: 0.9559 - val_loss: 0.1459\n",
            "Epoch 20/50\n",
            "\u001b[1m750/750\u001b[0m \u001b[32m━━━━━━━━━━━━━━━━━━━━\u001b[0m\u001b[37m\u001b[0m \u001b[1m6s\u001b[0m 6ms/step - accuracy: 0.9373 - loss: 0.2116 - val_accuracy: 0.9578 - val_loss: 0.1428\n",
            "Epoch 21/50\n",
            "\u001b[1m750/750\u001b[0m \u001b[32m━━━━━━━━━━━━━━━━━━━━\u001b[0m\u001b[37m\u001b[0m \u001b[1m4s\u001b[0m 5ms/step - accuracy: 0.9397 - loss: 0.2044 - val_accuracy: 0.9582 - val_loss: 0.1403\n",
            "Epoch 22/50\n",
            "\u001b[1m750/750\u001b[0m \u001b[32m━━━━━━━━━━━━━━━━━━━━\u001b[0m\u001b[37m\u001b[0m \u001b[1m4s\u001b[0m 5ms/step - accuracy: 0.9410 - loss: 0.1975 - val_accuracy: 0.9600 - val_loss: 0.1363\n",
            "Epoch 23/50\n",
            "\u001b[1m750/750\u001b[0m \u001b[32m━━━━━━━━━━━━━━━━━━━━\u001b[0m\u001b[37m\u001b[0m \u001b[1m5s\u001b[0m 6ms/step - accuracy: 0.9411 - loss: 0.1975 - val_accuracy: 0.9603 - val_loss: 0.1333\n",
            "Epoch 24/50\n",
            "\u001b[1m750/750\u001b[0m \u001b[32m━━━━━━━━━━━━━━━━━━━━\u001b[0m\u001b[37m\u001b[0m \u001b[1m4s\u001b[0m 5ms/step - accuracy: 0.9452 - loss: 0.1840 - val_accuracy: 0.9617 - val_loss: 0.1301\n",
            "Epoch 25/50\n",
            "\u001b[1m750/750\u001b[0m \u001b[32m━━━━━━━━━━━━━━━━━━━━\u001b[0m\u001b[37m\u001b[0m \u001b[1m5s\u001b[0m 5ms/step - accuracy: 0.9447 - loss: 0.1844 - val_accuracy: 0.9617 - val_loss: 0.1285\n",
            "Epoch 26/50\n",
            "\u001b[1m750/750\u001b[0m \u001b[32m━━━━━━━━━━━━━━━━━━━━\u001b[0m\u001b[37m\u001b[0m \u001b[1m6s\u001b[0m 5ms/step - accuracy: 0.9446 - loss: 0.1870 - val_accuracy: 0.9617 - val_loss: 0.1267\n",
            "Epoch 27/50\n",
            "\u001b[1m750/750\u001b[0m \u001b[32m━━━━━━━━━━━━━━━━━━━━\u001b[0m\u001b[37m\u001b[0m \u001b[1m5s\u001b[0m 5ms/step - accuracy: 0.9459 - loss: 0.1830 - val_accuracy: 0.9630 - val_loss: 0.1243\n",
            "Epoch 28/50\n",
            "\u001b[1m750/750\u001b[0m \u001b[32m━━━━━━━━━━━━━━━━━━━━\u001b[0m\u001b[37m\u001b[0m \u001b[1m6s\u001b[0m 6ms/step - accuracy: 0.9493 - loss: 0.1700 - val_accuracy: 0.9635 - val_loss: 0.1231\n",
            "Epoch 29/50\n",
            "\u001b[1m750/750\u001b[0m \u001b[32m━━━━━━━━━━━━━━━━━━━━\u001b[0m\u001b[37m\u001b[0m \u001b[1m4s\u001b[0m 5ms/step - accuracy: 0.9495 - loss: 0.1712 - val_accuracy: 0.9638 - val_loss: 0.1210\n",
            "Epoch 30/50\n",
            "\u001b[1m750/750\u001b[0m \u001b[32m━━━━━━━━━━━━━━━━━━━━\u001b[0m\u001b[37m\u001b[0m \u001b[1m5s\u001b[0m 5ms/step - accuracy: 0.9510 - loss: 0.1648 - val_accuracy: 0.9650 - val_loss: 0.1187\n",
            "Epoch 31/50\n",
            "\u001b[1m750/750\u001b[0m \u001b[32m━━━━━━━━━━━━━━━━━━━━\u001b[0m\u001b[37m\u001b[0m \u001b[1m5s\u001b[0m 5ms/step - accuracy: 0.9521 - loss: 0.1615 - val_accuracy: 0.9645 - val_loss: 0.1180\n",
            "Epoch 32/50\n",
            "\u001b[1m750/750\u001b[0m \u001b[32m━━━━━━━━━━━━━━━━━━━━\u001b[0m\u001b[37m\u001b[0m \u001b[1m4s\u001b[0m 5ms/step - accuracy: 0.9521 - loss: 0.1621 - val_accuracy: 0.9657 - val_loss: 0.1158\n",
            "Epoch 33/50\n",
            "\u001b[1m750/750\u001b[0m \u001b[32m━━━━━━━━━━━━━━━━━━━━\u001b[0m\u001b[37m\u001b[0m \u001b[1m7s\u001b[0m 7ms/step - accuracy: 0.9534 - loss: 0.1581 - val_accuracy: 0.9663 - val_loss: 0.1137\n",
            "Epoch 34/50\n",
            "\u001b[1m750/750\u001b[0m \u001b[32m━━━━━━━━━━━━━━━━━━━━\u001b[0m\u001b[37m\u001b[0m \u001b[1m4s\u001b[0m 5ms/step - accuracy: 0.9525 - loss: 0.1573 - val_accuracy: 0.9662 - val_loss: 0.1134\n",
            "Epoch 35/50\n",
            "\u001b[1m750/750\u001b[0m \u001b[32m━━━━━━━━━━━━━━━━━━━━\u001b[0m\u001b[37m\u001b[0m \u001b[1m4s\u001b[0m 5ms/step - accuracy: 0.9535 - loss: 0.1566 - val_accuracy: 0.9672 - val_loss: 0.1113\n",
            "Epoch 36/50\n",
            "\u001b[1m750/750\u001b[0m \u001b[32m━━━━━━━━━━━━━━━━━━━━\u001b[0m\u001b[37m\u001b[0m \u001b[1m4s\u001b[0m 6ms/step - accuracy: 0.9522 - loss: 0.1554 - val_accuracy: 0.9678 - val_loss: 0.1100\n",
            "Epoch 37/50\n",
            "\u001b[1m750/750\u001b[0m \u001b[32m━━━━━━━━━━━━━━━━━━━━\u001b[0m\u001b[37m\u001b[0m \u001b[1m3s\u001b[0m 4ms/step - accuracy: 0.9551 - loss: 0.1440 - val_accuracy: 0.9679 - val_loss: 0.1091\n",
            "Epoch 38/50\n",
            "\u001b[1m750/750\u001b[0m \u001b[32m━━━━━━━━━━━━━━━━━━━━\u001b[0m\u001b[37m\u001b[0m \u001b[1m3s\u001b[0m 5ms/step - accuracy: 0.9570 - loss: 0.1402 - val_accuracy: 0.9677 - val_loss: 0.1076\n",
            "Epoch 39/50\n",
            "\u001b[1m750/750\u001b[0m \u001b[32m━━━━━━━━━━━━━━━━━━━━\u001b[0m\u001b[37m\u001b[0m \u001b[1m6s\u001b[0m 6ms/step - accuracy: 0.9581 - loss: 0.1438 - val_accuracy: 0.9680 - val_loss: 0.1077\n",
            "Epoch 40/50\n",
            "\u001b[1m750/750\u001b[0m \u001b[32m━━━━━━━━━━━━━━━━━━━━\u001b[0m\u001b[37m\u001b[0m \u001b[1m4s\u001b[0m 5ms/step - accuracy: 0.9580 - loss: 0.1365 - val_accuracy: 0.9688 - val_loss: 0.1058\n",
            "Epoch 41/50\n",
            "\u001b[1m750/750\u001b[0m \u001b[32m━━━━━━━━━━━━━━━━━━━━\u001b[0m\u001b[37m\u001b[0m \u001b[1m5s\u001b[0m 5ms/step - accuracy: 0.9580 - loss: 0.1382 - val_accuracy: 0.9694 - val_loss: 0.1053\n",
            "Epoch 42/50\n",
            "\u001b[1m750/750\u001b[0m \u001b[32m━━━━━━━━━━━━━━━━━━━━\u001b[0m\u001b[37m\u001b[0m \u001b[1m5s\u001b[0m 6ms/step - accuracy: 0.9571 - loss: 0.1424 - val_accuracy: 0.9691 - val_loss: 0.1041\n",
            "Epoch 43/50\n",
            "\u001b[1m750/750\u001b[0m \u001b[32m━━━━━━━━━━━━━━━━━━━━\u001b[0m\u001b[37m\u001b[0m \u001b[1m4s\u001b[0m 5ms/step - accuracy: 0.9599 - loss: 0.1351 - val_accuracy: 0.9703 - val_loss: 0.1027\n",
            "Epoch 44/50\n",
            "\u001b[1m750/750\u001b[0m \u001b[32m━━━━━━━━━━━━━━━━━━━━\u001b[0m\u001b[37m\u001b[0m \u001b[1m4s\u001b[0m 5ms/step - accuracy: 0.9616 - loss: 0.1336 - val_accuracy: 0.9697 - val_loss: 0.1019\n",
            "Epoch 45/50\n",
            "\u001b[1m750/750\u001b[0m \u001b[32m━━━━━━━━━━━━━━━━━━━━\u001b[0m\u001b[37m\u001b[0m \u001b[1m6s\u001b[0m 6ms/step - accuracy: 0.9595 - loss: 0.1324 - val_accuracy: 0.9707 - val_loss: 0.1008\n",
            "Epoch 46/50\n",
            "\u001b[1m750/750\u001b[0m \u001b[32m━━━━━━━━━━━━━━━━━━━━\u001b[0m\u001b[37m\u001b[0m \u001b[1m4s\u001b[0m 5ms/step - accuracy: 0.9608 - loss: 0.1297 - val_accuracy: 0.9707 - val_loss: 0.1012\n",
            "Epoch 47/50\n",
            "\u001b[1m750/750\u001b[0m \u001b[32m━━━━━━━━━━━━━━━━━━━━\u001b[0m\u001b[37m\u001b[0m \u001b[1m6s\u001b[0m 6ms/step - accuracy: 0.9627 - loss: 0.1248 - val_accuracy: 0.9704 - val_loss: 0.1002\n",
            "Epoch 48/50\n",
            "\u001b[1m750/750\u001b[0m \u001b[32m━━━━━━━━━━━━━━━━━━━━\u001b[0m\u001b[37m\u001b[0m \u001b[1m4s\u001b[0m 5ms/step - accuracy: 0.9601 - loss: 0.1304 - val_accuracy: 0.9706 - val_loss: 0.1002\n",
            "Epoch 49/50\n",
            "\u001b[1m750/750\u001b[0m \u001b[32m━━━━━━━━━━━━━━━━━━━━\u001b[0m\u001b[37m\u001b[0m \u001b[1m3s\u001b[0m 5ms/step - accuracy: 0.9634 - loss: 0.1219 - val_accuracy: 0.9709 - val_loss: 0.0987\n",
            "Epoch 50/50\n",
            "\u001b[1m750/750\u001b[0m \u001b[32m━━━━━━━━━━━━━━━━━━━━\u001b[0m\u001b[37m\u001b[0m \u001b[1m4s\u001b[0m 6ms/step - accuracy: 0.9619 - loss: 0.1262 - val_accuracy: 0.9716 - val_loss: 0.0985\n"
          ]
        }
      ]
    },
    {
      "cell_type": "code",
      "source": [
        "import matplotlib.pyplot as plt\n",
        "%matplotlib inline\n",
        "# list all data in training\n",
        "print(training.history.keys())\n",
        "# summarize training for accuracy\n",
        "plt.plot(training.history['accuracy'])\n",
        "plt.plot(training.history['val_accuracy'])\n",
        "plt.title('model accuracy')\n",
        "plt.ylabel('accuracy')\n",
        "plt.xlabel('epoch')\n",
        "plt.legend(['train', 'test'], loc='upper left')\n",
        "plt.show()\n",
        "# summarize traning for loss\n",
        "plt.plot(training.history['loss'])\n",
        "plt.plot(training.history['val_loss'])\n",
        "plt.title('model loss')\n",
        "plt.ylabel('loss')\n",
        "plt.xlabel('epoch')\n",
        "plt.legend(['train', 'test'], loc='upper left')\n",
        "plt.show()"
      ],
      "metadata": {
        "colab": {
          "base_uri": "https://localhost:8080/",
          "height": 944
        },
        "id": "Kz7s74pe8KgL",
        "outputId": "200a4666-0a3d-4881-ef09-1f5709e22b68"
      },
      "execution_count": 26,
      "outputs": [
        {
          "output_type": "stream",
          "name": "stdout",
          "text": [
            "dict_keys(['accuracy', 'loss', 'val_accuracy', 'val_loss'])\n"
          ]
        },
        {
          "output_type": "display_data",
          "data": {
            "text/plain": [
              "<Figure size 640x480 with 1 Axes>"
            ],
            "image/png": "[encoded data removed]"
          },
          "metadata": {}
        },
        {
          "output_type": "display_data",
          "data": {
            "text/plain": [
              "<Figure size 640x480 with 1 Axes>"
            ],
            "image/png": "[encoded data removed]"
          },
          "metadata": {}
        }
      ]
    },
    {
      "cell_type": "code",
      "source": [
        "#evaluate the model\n",
        "test_loss, test_acc = model_2.evaluate(X_test, Y_test)\n",
        "print('Test accuracy:', test_acc)"
      ],
      "metadata": {
        "colab": {
          "base_uri": "https://localhost:8080/"
        },
        "id": "ANcoBIiv8SU0",
        "outputId": "dd9636af-5b5c-4c0c-8422-ab26940a8e84"
      },
      "execution_count": 27,
      "outputs": [
        {
          "output_type": "stream",
          "name": "stdout",
          "text": [
            "\u001b[1m313/313\u001b[0m \u001b[32m━━━━━━━━━━━━━━━━━━━━\u001b[0m\u001b[37m\u001b[0m \u001b[1m1s\u001b[0m 2ms/step - accuracy: 0.9655 - loss: 0.1147\n",
            "Test accuracy: 0.97079998254776\n"
          ]
        }
      ]
    },
    {
      "cell_type": "code",
      "source": [
        "model_2.weights"
      ],
      "metadata": {
        "colab": {
          "base_uri": "https://localhost:8080/"
        },
        "id": "1BPcRU4c8eVP",
        "outputId": "6d122e6f-c8fb-4a85-e14c-496b4b70ea6e"
      },
      "execution_count": 28,
      "outputs": [
        {
          "output_type": "execute_result",
          "data": {
            "text/plain": [
              "[<Variable path=sequential_2/dense_layer/kernel, shape=(784, 128), dtype=float32, value=[[-0.01270306  0.06890523 -0.08027545 ...  0.08065794  0.02254654\n",
              "   -0.02007975]\n",
              "  [ 0.01026811 -0.0563946   0.03299313 ... -0.06347818  0.04964066\n",
              "    0.06523722]\n",
              "  [ 0.02646622  0.05206736  0.04749901 ...  0.00426168  0.00680124\n",
              "   -0.04465314]\n",
              "  ...\n",
              "  [-0.07181858  0.01361126  0.05050033 ... -0.00910381  0.06145296\n",
              "    0.03603108]\n",
              "  [-0.02008764 -0.04711135  0.07459184 ...  0.04911021 -0.07126206\n",
              "   -0.05585029]\n",
              "  [-0.05328263  0.07213632  0.07976391 ... -0.05472395 -0.00747232\n",
              "    0.06029693]]>,\n",
              " <Variable path=sequential_2/dense_layer/bias, shape=(128,), dtype=float32, value=[ 0.09619805 -0.02381174 -0.04971915  0.13091859  0.04061946 -0.04960978\n",
              "   0.04189728  0.11336681 -0.01798981  0.14756763 -0.00399282 -0.07898436\n",
              "   0.01466973 -0.00452058  0.00501764  0.00979375 -0.01782124 -0.10643762\n",
              "   0.01196072  0.00034474  0.05391089  0.01791749 -0.12015623  0.04574881\n",
              "   0.09304498  0.04681338  0.04594591  0.03188249 -0.13215531 -0.11021307\n",
              "   0.01451975  0.03248094  0.07351884 -0.03821333 -0.03593721 -0.05076742\n",
              "  -0.00439708  0.02171278 -0.14624895 -0.03617356 -0.15282781 -0.03732466\n",
              "   0.06032411 -0.03519154  0.14504279  0.09621663 -0.09031556  0.02799311\n",
              "   0.0019281  -0.02955356 -0.0027574   0.12304539  0.10695393 -0.06966634\n",
              "   0.0470307  -0.04284363  0.00907694  0.08878205 -0.06018222 -0.08439507\n",
              "   0.07622769 -0.00052644  0.05449932  0.0598901   0.02375419 -0.14127053\n",
              "   0.13207768  0.09018655  0.00562532 -0.18317929 -0.10093373  0.09899153\n",
              "   0.11023064  0.07563647  0.07145012 -0.0357838   0.15579689 -0.02502646\n",
              "  -0.0428508   0.09425592 -0.01533854 -0.0351069   0.04242575  0.01548885\n",
              "  -0.0422121  -0.05333854  0.00748934 -0.0330446   0.08000686 -0.0706158\n",
              "   0.02501218  0.01102649  0.0360618   0.06601444 -0.0884763  -0.01132752\n",
              "  -0.08552823  0.09751045  0.13571069  0.06762078  0.09413252  0.02873064\n",
              "   0.08959012 -0.02382106  0.06265482  0.1539247  -0.05565337 -0.02646812\n",
              "  -0.01935682 -0.01396304  0.06119584  0.04355177 -0.00732283 -0.04232872\n",
              "   0.05728635  0.07644214  0.01958415  0.00908685  0.00683439  0.1137514\n",
              "   0.09745691  0.01892991 -0.00184881 -0.01123123  0.00328589  0.011986\n",
              "   0.02069554  0.01888135]>,\n",
              " <Variable path=sequential_2/dense_layer_2/kernel, shape=(128, 128), dtype=float32, value=[[-0.0782936   0.1381384   0.00359919 ... -0.09886714  0.04405137\n",
              "   -0.09390977]\n",
              "  [ 0.14190502 -0.14394459 -0.1367625  ... -0.09283447 -0.06378508\n",
              "   -0.00118974]\n",
              "  [ 0.09386588 -0.11438391 -0.02376085 ... -0.17950465  0.10861081\n",
              "    0.0339645 ]\n",
              "  ...\n",
              "  [ 0.13785054  0.05093576  0.06796411 ...  0.00226286  0.14182226\n",
              "    0.16047126]\n",
              "  [-0.17760836  0.06857862  0.16561006 ... -0.17167486  0.14181758\n",
              "    0.16067216]\n",
              "  [ 0.18422587  0.09831978 -0.12862962 ...  0.09080036 -0.07471808\n",
              "   -0.02129705]]>,\n",
              " <Variable path=sequential_2/dense_layer_2/bias, shape=(128,), dtype=float32, value=[ 1.21160485e-01  2.68049501e-02 -1.57063443e-03 -1.06152724e-02\n",
              "   2.84852032e-02  4.52794284e-02  1.67643055e-02 -9.34588350e-03\n",
              "   6.02768883e-02  2.39214972e-02  1.16157204e-01 -4.94420296e-03\n",
              "   2.16593072e-02  1.44278809e-01  1.02632768e-01  1.72282621e-01\n",
              "   5.25946803e-02  1.03077695e-01  8.72854050e-03 -2.04553064e-02\n",
              "   6.95566759e-02  4.85379472e-02  8.69526193e-02 -8.94274376e-03\n",
              "   7.34680220e-02  3.50447558e-02  4.37407717e-02  3.43971662e-02\n",
              "  -3.76511514e-02  1.14876539e-01 -2.17539575e-02 -1.62193005e-03\n",
              "   1.51391014e-01 -4.00930969e-03  1.13951586e-01  5.20363636e-02\n",
              "   4.20425944e-02 -2.66472492e-02  1.79838575e-02  5.47849126e-02\n",
              "   9.97114927e-02  7.49517754e-02  5.53177707e-02  9.65407342e-02\n",
              "   3.67843695e-02  5.44924438e-02  4.15207706e-02  3.37141044e-02\n",
              "   8.35536569e-02 -3.25387381e-02  1.08985476e-01 -2.88290111e-03\n",
              "   5.61001301e-02  9.77086723e-02  4.57459800e-02  7.85512179e-02\n",
              "   3.68471025e-03  4.08368409e-02  6.61310628e-02  1.04064494e-01\n",
              "   2.88856439e-02 -2.21176026e-03  5.92882633e-02  8.01434368e-02\n",
              "   1.05234489e-01  4.87223081e-02 -5.33729326e-03  1.19393535e-01\n",
              "   7.25412965e-02  1.70724377e-01  1.28530473e-01  8.07271078e-02\n",
              "   6.27842918e-02  4.72615398e-02  1.36148840e-01  8.15156251e-02\n",
              "   5.74829662e-03  8.86614993e-02  2.67180186e-02  3.06763817e-02\n",
              "   2.77041597e-03  8.32568929e-02  9.45200101e-02 -1.82136847e-03\n",
              "   1.41079798e-01  7.88010061e-02  4.54462282e-02  5.44920862e-02\n",
              "   1.28784627e-01  1.12237513e-01  2.80625783e-02  8.79608467e-02\n",
              "   8.92678648e-02  1.88766867e-02  7.99344406e-02  8.68290444e-05\n",
              "  -7.70449918e-03  1.31857246e-01  7.60002434e-02 -1.57057885e-02\n",
              "   4.14579771e-02  7.73993284e-02 -4.53623198e-02  5.31339869e-02\n",
              "   5.87164797e-02  1.51743703e-02  1.82315156e-01  5.73977008e-02\n",
              "  -3.36590856e-02  2.10739393e-02  2.66831312e-02 -2.63631213e-02\n",
              "   2.46852590e-03  3.99944081e-04 -4.59101796e-02  6.10636361e-02\n",
              "   8.81446302e-02  5.80326989e-02  2.91745123e-02 -8.27704649e-03\n",
              "   2.66481731e-02  1.20220266e-01  4.68318947e-02  3.16874497e-02\n",
              "   7.36434460e-02  6.80532306e-02  6.27692118e-02  3.54349427e-02]>,\n",
              " <Variable path=sequential_2/dense_layer_3/kernel, shape=(128, 10), dtype=float32, value=[[-0.08439503  0.27829227  0.0418174  ... -0.30968878  0.28334117\n",
              "   -0.21002479]\n",
              "  [ 0.22997428 -0.14359185  0.2888783  ... -0.10559687 -0.20789738\n",
              "   -0.38615784]\n",
              "  [-0.03085541 -0.22033018  0.14139743 ...  0.21086939 -0.17921624\n",
              "   -0.03063624]\n",
              "  ...\n",
              "  [-0.2752262  -0.0745804  -0.30646577 ... -0.253339    0.35143182\n",
              "    0.34458685]\n",
              "  [-0.28195187  0.39680907 -0.04205765 ...  0.28247425  0.01238975\n",
              "   -0.31257525]\n",
              "  [ 0.28677282 -0.18983157  0.13122231 ... -0.19434872  0.252559\n",
              "   -0.35313278]]>,\n",
              " <Variable path=sequential_2/dense_layer_3/bias, shape=(10,), dtype=float32, value=[ 0.00029597  0.15108128 -0.1626297  -0.11513258  0.00017707  0.08405405\n",
              "  -0.01575916 -0.08744329  0.17429586 -0.0289399 ]>]"
            ]
          },
          "metadata": {},
          "execution_count": 28
        }
      ]
    }
  ]
}